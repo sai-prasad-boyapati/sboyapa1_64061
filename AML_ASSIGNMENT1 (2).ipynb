{
  "cells": [
    {
      "cell_type": "code",
      "execution_count": null,
      "metadata": {
        "id": "AfgyKMO-yY7K"
      },
      "outputs": [],
      "source": [
        "from numpy.random import seed\n",
        "seed(5097)\n",
        "from tensorflow.keras.datasets import imdb\n",
        "(train_data, train_labels), (test_data, test_labels) = imdb.load_data(\n",
        "    num_words=10000)"
      ]
    },
    {
      "cell_type": "code",
      "execution_count": null,
      "metadata": {
        "colab": {
          "base_uri": "https://localhost:8080/"
        },
        "id": "wdSpjqyLyapo",
        "outputId": "85986ff9-6888-4203-c4c8-35488307c0e2"
      },
      "outputs": [
        {
          "data": {
            "text/plain": [
              "array([list([1, 14, 22, 16, 43, 530, 973, 1622, 1385, 65, 458, 4468, 66, 3941, 4, 173, 36, 256, 5, 25, 100, 43, 838, 112, 50, 670, 2, 9, 35, 480, 284, 5, 150, 4, 172, 112, 167, 2, 336, 385, 39, 4, 172, 4536, 1111, 17, 546, 38, 13, 447, 4, 192, 50, 16, 6, 147, 2025, 19, 14, 22, 4, 1920, 4613, 469, 4, 22, 71, 87, 12, 16, 43, 530, 38, 76, 15, 13, 1247, 4, 22, 17, 515, 17, 12, 16, 626, 18, 2, 5, 62, 386, 12, 8, 316, 8, 106, 5, 4, 2223, 5244, 16, 480, 66, 3785, 33, 4, 130, 12, 16, 38, 619, 5, 25, 124, 51, 36, 135, 48, 25, 1415, 33, 6, 22, 12, 215, 28, 77, 52, 5, 14, 407, 16, 82, 2, 8, 4, 107, 117, 5952, 15, 256, 4, 2, 7, 3766, 5, 723, 36, 71, 43, 530, 476, 26, 400, 317, 46, 7, 4, 2, 1029, 13, 104, 88, 4, 381, 15, 297, 98, 32, 2071, 56, 26, 141, 6, 194, 7486, 18, 4, 226, 22, 21, 134, 476, 26, 480, 5, 144, 30, 5535, 18, 51, 36, 28, 224, 92, 25, 104, 4, 226, 65, 16, 38, 1334, 88, 12, 16, 283, 5, 16, 4472, 113, 103, 32, 15, 16, 5345, 19, 178, 32]),\n",
              "       list([1, 194, 1153, 194, 8255, 78, 228, 5, 6, 1463, 4369, 5012, 134, 26, 4, 715, 8, 118, 1634, 14, 394, 20, 13, 119, 954, 189, 102, 5, 207, 110, 3103, 21, 14, 69, 188, 8, 30, 23, 7, 4, 249, 126, 93, 4, 114, 9, 2300, 1523, 5, 647, 4, 116, 9, 35, 8163, 4, 229, 9, 340, 1322, 4, 118, 9, 4, 130, 4901, 19, 4, 1002, 5, 89, 29, 952, 46, 37, 4, 455, 9, 45, 43, 38, 1543, 1905, 398, 4, 1649, 26, 6853, 5, 163, 11, 3215, 2, 4, 1153, 9, 194, 775, 7, 8255, 2, 349, 2637, 148, 605, 2, 8003, 15, 123, 125, 68, 2, 6853, 15, 349, 165, 4362, 98, 5, 4, 228, 9, 43, 2, 1157, 15, 299, 120, 5, 120, 174, 11, 220, 175, 136, 50, 9, 4373, 228, 8255, 5, 2, 656, 245, 2350, 5, 4, 9837, 131, 152, 491, 18, 2, 32, 7464, 1212, 14, 9, 6, 371, 78, 22, 625, 64, 1382, 9, 8, 168, 145, 23, 4, 1690, 15, 16, 4, 1355, 5, 28, 6, 52, 154, 462, 33, 89, 78, 285, 16, 145, 95]),\n",
              "       list([1, 14, 47, 8, 30, 31, 7, 4, 249, 108, 7, 4, 5974, 54, 61, 369, 13, 71, 149, 14, 22, 112, 4, 2401, 311, 12, 16, 3711, 33, 75, 43, 1829, 296, 4, 86, 320, 35, 534, 19, 263, 4821, 1301, 4, 1873, 33, 89, 78, 12, 66, 16, 4, 360, 7, 4, 58, 316, 334, 11, 4, 1716, 43, 645, 662, 8, 257, 85, 1200, 42, 1228, 2578, 83, 68, 3912, 15, 36, 165, 1539, 278, 36, 69, 2, 780, 8, 106, 14, 6905, 1338, 18, 6, 22, 12, 215, 28, 610, 40, 6, 87, 326, 23, 2300, 21, 23, 22, 12, 272, 40, 57, 31, 11, 4, 22, 47, 6, 2307, 51, 9, 170, 23, 595, 116, 595, 1352, 13, 191, 79, 638, 89, 2, 14, 9, 8, 106, 607, 624, 35, 534, 6, 227, 7, 129, 113]),\n",
              "       ...,\n",
              "       list([1, 11, 6, 230, 245, 6401, 9, 6, 1225, 446, 2, 45, 2174, 84, 8322, 4007, 21, 4, 912, 84, 2, 325, 725, 134, 2, 1715, 84, 5, 36, 28, 57, 1099, 21, 8, 140, 8, 703, 5, 2, 84, 56, 18, 1644, 14, 9, 31, 7, 4, 9406, 1209, 2295, 2, 1008, 18, 6, 20, 207, 110, 563, 12, 8, 2901, 2, 8, 97, 6, 20, 53, 4767, 74, 4, 460, 364, 1273, 29, 270, 11, 960, 108, 45, 40, 29, 2961, 395, 11, 6, 4065, 500, 7, 2, 89, 364, 70, 29, 140, 4, 64, 4780, 11, 4, 2678, 26, 178, 4, 529, 443, 2, 5, 27, 710, 117, 2, 8123, 165, 47, 84, 37, 131, 818, 14, 595, 10, 10, 61, 1242, 1209, 10, 10, 288, 2260, 1702, 34, 2901, 2, 4, 65, 496, 4, 231, 7, 790, 5, 6, 320, 234, 2766, 234, 1119, 1574, 7, 496, 4, 139, 929, 2901, 2, 7750, 5, 4241, 18, 4, 8497, 2, 250, 11, 1818, 7561, 4, 4217, 5408, 747, 1115, 372, 1890, 1006, 541, 9303, 7, 4, 59, 2, 4, 3586, 2]),\n",
              "       list([1, 1446, 7079, 69, 72, 3305, 13, 610, 930, 8, 12, 582, 23, 5, 16, 484, 685, 54, 349, 11, 4120, 2959, 45, 58, 1466, 13, 197, 12, 16, 43, 23, 2, 5, 62, 30, 145, 402, 11, 4131, 51, 575, 32, 61, 369, 71, 66, 770, 12, 1054, 75, 100, 2198, 8, 4, 105, 37, 69, 147, 712, 75, 3543, 44, 257, 390, 5, 69, 263, 514, 105, 50, 286, 1814, 23, 4, 123, 13, 161, 40, 5, 421, 4, 116, 16, 897, 13, 2, 40, 319, 5872, 112, 6700, 11, 4803, 121, 25, 70, 3468, 4, 719, 3798, 13, 18, 31, 62, 40, 8, 7200, 4, 2, 7, 14, 123, 5, 942, 25, 8, 721, 12, 145, 5, 202, 12, 160, 580, 202, 12, 6, 52, 58, 2, 92, 401, 728, 12, 39, 14, 251, 8, 15, 251, 5, 2, 12, 38, 84, 80, 124, 12, 9, 23]),\n",
              "       list([1, 17, 6, 194, 337, 7, 4, 204, 22, 45, 254, 8, 106, 14, 123, 4, 2, 270, 2, 5, 2, 2, 732, 2098, 101, 405, 39, 14, 1034, 4, 1310, 9, 115, 50, 305, 12, 47, 4, 168, 5, 235, 7, 38, 111, 699, 102, 7, 4, 4039, 9245, 9, 24, 6, 78, 1099, 17, 2345, 2, 21, 27, 9685, 6139, 5, 2, 1603, 92, 1183, 4, 1310, 7, 4, 204, 42, 97, 90, 35, 221, 109, 29, 127, 27, 118, 8, 97, 12, 157, 21, 6789, 2, 9, 6, 66, 78, 1099, 4, 631, 1191, 5, 2642, 272, 191, 1070, 6, 7585, 8, 2197, 2, 2, 544, 5, 383, 1271, 848, 1468, 2, 497, 2, 8, 1597, 8778, 2, 21, 60, 27, 239, 9, 43, 8368, 209, 405, 10, 10, 12, 764, 40, 4, 248, 20, 12, 16, 5, 174, 1791, 72, 7, 51, 6, 1739, 22, 4, 204, 131, 9])],\n",
              "      dtype=object)"
            ]
          },
          "execution_count": 90,
          "metadata": {},
          "output_type": "execute_result"
        }
      ],
      "source": [
        "train_data"
      ]
    },
    {
      "cell_type": "code",
      "execution_count": null,
      "metadata": {
        "colab": {
          "base_uri": "https://localhost:8080/"
        },
        "id": "vdx0DOxHyweR",
        "outputId": "42d045e9-b676-4499-f788-aedf6227b431"
      },
      "outputs": [
        {
          "data": {
            "text/plain": [
              "1"
            ]
          },
          "execution_count": 91,
          "metadata": {},
          "output_type": "execute_result"
        }
      ],
      "source": [
        "train_labels[0]"
      ]
    },
    {
      "cell_type": "code",
      "execution_count": null,
      "metadata": {
        "colab": {
          "base_uri": "https://localhost:8080/"
        },
        "id": "ZncpEnXlywp7",
        "outputId": "e87a84af-119c-4cec-f4ff-6e9d1bb25a21"
      },
      "outputs": [
        {
          "data": {
            "text/plain": [
              "25000"
            ]
          },
          "execution_count": 92,
          "metadata": {},
          "output_type": "execute_result"
        }
      ],
      "source": [
        "len(train_labels)"
      ]
    },
    {
      "cell_type": "code",
      "execution_count": null,
      "metadata": {
        "colab": {
          "base_uri": "https://localhost:8080/"
        },
        "id": "gfbMzcGXywrX",
        "outputId": "198e2c83-845b-43df-aa6e-0000600204fd"
      },
      "outputs": [
        {
          "data": {
            "text/plain": [
              "array([list([1, 591, 202, 14, 31, 6, 717, 10, 10, 2, 2, 5, 4, 360, 7, 4, 177, 5760, 394, 354, 4, 123, 9, 1035, 1035, 1035, 10, 10, 13, 92, 124, 89, 488, 7944, 100, 28, 1668, 14, 31, 23, 27, 7479, 29, 220, 468, 8, 124, 14, 286, 170, 8, 157, 46, 5, 27, 239, 16, 179, 2, 38, 32, 25, 7944, 451, 202, 14, 6, 717]),\n",
              "       list([1, 14, 22, 3443, 6, 176, 7, 5063, 88, 12, 2679, 23, 1310, 5, 109, 943, 4, 114, 9, 55, 606, 5, 111, 7, 4, 139, 193, 273, 23, 4, 172, 270, 11, 7216, 2, 4, 8463, 2801, 109, 1603, 21, 4, 22, 3861, 8, 6, 1193, 1330, 10, 10, 4, 105, 987, 35, 841, 2, 19, 861, 1074, 5, 1987, 2, 45, 55, 221, 15, 670, 5304, 526, 14, 1069, 4, 405, 5, 2438, 7, 27, 85, 108, 131, 4, 5045, 5304, 3884, 405, 9, 3523, 133, 5, 50, 13, 104, 51, 66, 166, 14, 22, 157, 9, 4, 530, 239, 34, 8463, 2801, 45, 407, 31, 7, 41, 3778, 105, 21, 59, 299, 12, 38, 950, 5, 4521, 15, 45, 629, 488, 2733, 127, 6, 52, 292, 17, 4, 6936, 185, 132, 1988, 5304, 1799, 488, 2693, 47, 6, 392, 173, 4, 2, 4378, 270, 2352, 4, 1500, 7, 4, 65, 55, 73, 11, 346, 14, 20, 9, 6, 976, 2078, 7, 5293, 861, 2, 5, 4182, 30, 3127, 2, 56, 4, 841, 5, 990, 692, 8, 4, 1669, 398, 229, 10, 10, 13, 2822, 670, 5304, 14, 9, 31, 7, 27, 111, 108, 15, 2033, 19, 7836, 1429, 875, 551, 14, 22, 9, 1193, 21, 45, 4829, 5, 45, 252, 8, 2, 6, 565, 921, 3639, 39, 4, 529, 48, 25, 181, 8, 67, 35, 1732, 22, 49, 238, 60, 135, 1162, 14, 9, 290, 4, 58, 10, 10, 472, 45, 55, 878, 8, 169, 11, 374, 5687, 25, 203, 28, 8, 818, 12, 125, 4, 3077]),\n",
              "       list([1, 111, 748, 4368, 1133, 2, 2, 4, 87, 1551, 1262, 7, 31, 318, 9459, 7, 4, 498, 5076, 748, 63, 29, 5161, 220, 686, 2, 5, 17, 12, 575, 220, 2507, 17, 6, 185, 132, 2, 16, 53, 928, 11, 2, 74, 4, 438, 21, 27, 2, 589, 8, 22, 107, 2, 2, 997, 1638, 8, 35, 2076, 9019, 11, 22, 231, 54, 29, 1706, 29, 100, 2, 2425, 34, 2, 8738, 2, 5, 2, 98, 31, 2122, 33, 6, 58, 14, 3808, 1638, 8, 4, 365, 7, 2789, 3761, 356, 346, 4, 2, 1060, 63, 29, 93, 11, 5421, 11, 2, 33, 6, 58, 54, 1270, 431, 748, 7, 32, 2580, 16, 11, 94, 2, 10, 10, 4, 993, 2, 7, 4, 1766, 2634, 2164, 2, 8, 847, 8, 1450, 121, 31, 7, 27, 86, 2663, 2, 16, 6, 465, 993, 2006, 2, 573, 17, 2, 42, 4, 2, 37, 473, 6, 711, 6, 8869, 7, 328, 212, 70, 30, 258, 11, 220, 32, 7, 108, 21, 133, 12, 9, 55, 465, 849, 3711, 53, 33, 2071, 1969, 37, 70, 1144, 4, 5940, 1409, 74, 476, 37, 62, 91, 1329, 169, 4, 1330, 2, 146, 655, 2212, 5, 258, 12, 184, 2, 546, 5, 849, 2, 7, 4, 22, 1436, 18, 631, 1386, 797, 7, 4, 8712, 71, 348, 425, 4320, 1061, 19, 2, 5, 2, 11, 661, 8, 339, 2, 4, 2455, 2, 7, 4, 1962, 10, 10, 263, 787, 9, 270, 11, 6, 9466, 4, 2, 2, 121, 4, 5437, 26, 4434, 19, 68, 1372, 5, 28, 446, 6, 318, 7149, 8, 67, 51, 36, 70, 81, 8, 4392, 2294, 36, 1197, 8, 2, 2, 18, 6, 711, 4, 9909, 26, 2, 1125, 11, 14, 636, 720, 12, 426, 28, 77, 776, 8, 97, 38, 111, 7489, 6175, 168, 1239, 5189, 137, 2, 18, 27, 173, 9, 2399, 17, 6, 2, 428, 2, 232, 11, 4, 8014, 37, 272, 40, 2708, 247, 30, 656, 6, 2, 54, 2, 3292, 98, 6, 2840, 40, 558, 37, 6093, 98, 4, 2, 1197, 15, 14, 9, 57, 4893, 5, 4659, 6, 275, 711, 7937, 2, 3292, 98, 6, 2, 10, 10, 6639, 19, 14, 2, 267, 162, 711, 37, 5900, 752, 98, 4, 2, 2378, 90, 19, 6, 2, 7, 2, 1810, 2, 4, 4770, 3183, 930, 8, 508, 90, 4, 1317, 8, 4, 2, 17, 2, 3965, 1853, 4, 1494, 8, 4468, 189, 4, 2, 6287, 5774, 4, 4770, 5, 95, 271, 23, 6, 7742, 6063, 2, 5437, 33, 1526, 6, 425, 3155, 2, 4535, 1636, 7, 4, 4669, 2, 469, 4, 4552, 54, 4, 150, 5664, 2, 280, 53, 2, 2, 18, 339, 29, 1978, 27, 7885, 5, 2, 68, 1830, 19, 6571, 2, 4, 1515, 7, 263, 65, 2132, 34, 6, 5680, 7489, 43, 159, 29, 9, 4706, 9, 387, 73, 195, 584, 10, 10, 1069, 4, 58, 810, 54, 14, 6078, 117, 22, 16, 93, 5, 1069, 4, 192, 15, 12, 16, 93, 34, 6, 1766, 2, 33, 4, 5673, 7, 15, 2, 9252, 3286, 325, 12, 62, 30, 776, 8, 67, 14, 17, 6, 2, 44, 148, 687, 2, 203, 42, 203, 24, 28, 69, 2, 6676, 11, 330, 54, 29, 93, 2, 21, 845, 2, 27, 1099, 7, 819, 4, 22, 1407, 17, 6, 2, 787, 7, 2460, 2, 2, 100, 30, 4, 3737, 3617, 3169, 2321, 42, 1898, 11, 4, 3814, 42, 101, 704, 7, 101, 999, 15, 1625, 94, 2926, 180, 5, 9, 9101, 34, 2, 45, 6, 1429, 22, 60, 6, 1220, 31, 11, 94, 6408, 96, 21, 94, 749, 9, 57, 975]),\n",
              "       ...,\n",
              "       list([1, 13, 1408, 15, 8, 135, 14, 9, 35, 32, 46, 394, 20, 62, 30, 5093, 21, 45, 184, 78, 4, 1492, 910, 769, 2290, 2515, 395, 4257, 5, 1454, 11, 119, 2, 89, 1036, 4, 116, 218, 78, 21, 407, 100, 30, 128, 262, 15, 7, 185, 2280, 284, 1842, 2, 37, 315, 4, 226, 20, 272, 2942, 40, 29, 152, 60, 181, 8, 30, 50, 553, 362, 80, 119, 12, 21, 846, 5518]),\n",
              "       list([1, 11, 119, 241, 9, 4, 840, 20, 12, 468, 15, 94, 3684, 562, 791, 39, 4, 86, 107, 8, 97, 14, 31, 33, 4, 2960, 7, 743, 46, 1028, 9, 3531, 5, 4, 768, 47, 8, 79, 90, 145, 164, 162, 50, 6, 501, 119, 7, 9, 4, 78, 232, 15, 16, 224, 11, 4, 333, 20, 4, 985, 200, 5, 2, 5, 9, 1861, 8, 79, 357, 4, 20, 47, 220, 57, 206, 139, 11, 12, 5, 55, 117, 212, 13, 1276, 92, 124, 51, 45, 1188, 71, 536, 13, 520, 14, 20, 6, 2302, 7, 470]),\n",
              "       list([1, 6, 52, 7465, 430, 22, 9, 220, 2594, 8, 28, 2, 519, 3227, 6, 769, 15, 47, 6, 3482, 4067, 8, 114, 5, 33, 222, 31, 55, 184, 704, 5586, 2, 19, 346, 3153, 5, 6, 364, 350, 4, 184, 5586, 9, 133, 1810, 11, 5417, 2, 21, 4, 7298, 2, 570, 50, 2005, 2643, 9, 6, 1249, 17, 6, 2, 2, 21, 17, 6, 1211, 232, 1138, 2249, 29, 266, 56, 96, 346, 194, 308, 9, 194, 21, 29, 218, 1078, 19, 4, 78, 173, 7, 27, 2, 5698, 3406, 718, 2, 9, 6, 6907, 17, 210, 5, 3281, 5677, 47, 77, 395, 14, 172, 173, 18, 2740, 2931, 4517, 82, 127, 27, 173, 11, 6, 392, 217, 21, 50, 9, 57, 65, 12, 2, 53, 40, 35, 390, 7, 11, 4, 3567, 7, 4, 314, 74, 6, 792, 22, 2, 19, 714, 727, 5205, 382, 4, 91, 6533, 439, 19, 14, 20, 9, 1441, 5805, 1118, 4, 756, 25, 124, 4, 31, 12, 16, 93, 804, 34, 2005, 2643])],\n",
              "      dtype=object)"
            ]
          },
          "execution_count": 93,
          "metadata": {},
          "output_type": "execute_result"
        }
      ],
      "source": [
        "test_data"
      ]
    },
    {
      "cell_type": "code",
      "execution_count": null,
      "metadata": {
        "colab": {
          "base_uri": "https://localhost:8080/"
        },
        "id": "wC4ay2J5ywu4",
        "outputId": "63556ea4-f7d1-4c10-e227-15eb562a6de2"
      },
      "outputs": [
        {
          "data": {
            "text/plain": [
              "0"
            ]
          },
          "execution_count": 94,
          "metadata": {},
          "output_type": "execute_result"
        }
      ],
      "source": [
        "test_labels[0]"
      ]
    },
    {
      "cell_type": "code",
      "execution_count": null,
      "metadata": {
        "colab": {
          "base_uri": "https://localhost:8080/"
        },
        "id": "ZoLi0EQGywwc",
        "outputId": "c0df2bde-a509-43fe-cacd-4a2c36ece293"
      },
      "outputs": [
        {
          "data": {
            "text/plain": [
              "9999"
            ]
          },
          "execution_count": 95,
          "metadata": {},
          "output_type": "execute_result"
        }
      ],
      "source": [
        "max([max(sequence) for sequence in test_data])"
      ]
    },
    {
      "cell_type": "markdown",
      "metadata": {
        "id": "U1aQWAuvzRDL"
      },
      "source": [
        "Decoding Reviews to text"
      ]
    },
    {
      "cell_type": "code",
      "execution_count": null,
      "metadata": {
        "id": "34qOjetZzTxp"
      },
      "outputs": [],
      "source": [
        "word_index = imdb.get_word_index()\n",
        "rev_index = dict(\n",
        "    [(value, key) for (key, value) in word_index.items()])\n",
        "d_review = \" \".join(\n",
        "    [rev_index.get(i - 3, \"?\") for i in train_data[0]])"
      ]
    },
    {
      "cell_type": "code",
      "execution_count": null,
      "metadata": {
        "colab": {
          "base_uri": "https://localhost:8080/",
          "height": 139
        },
        "id": "GnAOniOHznmd",
        "outputId": "a0793124-f518-447d-a885-26624ed3a72f"
      },
      "outputs": [
        {
          "data": {
            "application/vnd.google.colaboratory.intrinsic+json": {
              "type": "string"
            },
            "text/plain": [
              "\"? this film was just brilliant casting location scenery story direction everyone's really suited the part they played and you could just imagine being there robert ? is an amazing actor and now the same being director ? father came from the same scottish island as myself so i loved the fact there was a real connection with this film the witty remarks throughout the film were great it was just brilliant so much that i bought the film as soon as it was released for ? and would recommend it to everyone to watch and the fly fishing was amazing really cried at the end it was so sad and you know what they say if you cry at a film it must have been good and this definitely was also ? to the two little boy's that played the ? of norman and paul they were just brilliant children are often left out of the ? list i think because the stars that play them all grown up are such a big profile for the whole film but these children are amazing and should be praised for what they have done don't you think the whole story was so lovely because it was true and was someone's life after all that was shared with us all\""
            ]
          },
          "execution_count": 97,
          "metadata": {},
          "output_type": "execute_result"
        }
      ],
      "source": [
        "d_review"
      ]
    },
    {
      "cell_type": "markdown",
      "metadata": {
        "id": "fLjv4ZxnzvUL"
      },
      "source": [
        "Preparing required data"
      ]
    },
    {
      "cell_type": "code",
      "execution_count": null,
      "metadata": {
        "id": "xUqgwSVlzyvX"
      },
      "outputs": [],
      "source": [
        "import numpy as np\n",
        "def vectorize_sequences(sequences, dimension=10000):\n",
        "    results = np.zeros((len(sequences), dimension))\n",
        "    for i, sequence in enumerate(sequences):\n",
        "        for j in sequence:\n",
        "            results[i, j] = 1.\n",
        "    return results"
      ]
    },
    {
      "cell_type": "markdown",
      "metadata": {
        "id": "H3m52BQtz-Mq"
      },
      "source": [
        "vector data"
      ]
    },
    {
      "cell_type": "code",
      "execution_count": null,
      "metadata": {
        "id": "SGByl6Qq0AXm"
      },
      "outputs": [],
      "source": [
        "m_train = vectorize_sequences(train_data)\n",
        "m_test = vectorize_sequences(test_data)"
      ]
    },
    {
      "cell_type": "code",
      "execution_count": null,
      "metadata": {
        "colab": {
          "base_uri": "https://localhost:8080/"
        },
        "id": "agfvnIHa0I9T",
        "outputId": "867d133a-50a1-405b-e696-55b086d2bdc9"
      },
      "outputs": [
        {
          "data": {
            "text/plain": [
              "array([0., 1., 1., ..., 0., 0., 0.])"
            ]
          },
          "execution_count": 100,
          "metadata": {},
          "output_type": "execute_result"
        }
      ],
      "source": [
        "m_train[0]"
      ]
    },
    {
      "cell_type": "code",
      "execution_count": null,
      "metadata": {
        "colab": {
          "base_uri": "https://localhost:8080/"
        },
        "id": "8FgtLekl0I_G",
        "outputId": "eee5570d-f149-4da5-9695-5b32f27ef52b"
      },
      "outputs": [
        {
          "data": {
            "text/plain": [
              "array([0., 1., 1., ..., 0., 0., 0.])"
            ]
          },
          "execution_count": 101,
          "metadata": {},
          "output_type": "execute_result"
        }
      ],
      "source": [
        "\n",
        "m_test[0]"
      ]
    },
    {
      "cell_type": "markdown",
      "metadata": {
        "id": "5iGgZ5N50UEK"
      },
      "source": [
        "label vector"
      ]
    },
    {
      "cell_type": "code",
      "execution_count": null,
      "metadata": {
        "id": "9ywFQYkq0S9j"
      },
      "outputs": [],
      "source": [
        "n_train = np.asarray(train_labels).astype(\"float32\")\n",
        "n_test = np.asarray(test_labels).astype(\"float32\")"
      ]
    },
    {
      "cell_type": "markdown",
      "metadata": {
        "id": "fS2O_9tq0mQZ"
      },
      "source": [
        "Constructing the model with ReLU activation and compiling it"
      ]
    },
    {
      "cell_type": "code",
      "execution_count": null,
      "metadata": {
        "id": "YlUbaZ8G0JB8"
      },
      "outputs": [],
      "source": [
        "from tensorflow import keras\n",
        "from tensorflow.keras import layers\n",
        "seed(5097)\n",
        "model = keras.Sequential([\n",
        "    layers.Dense(16, activation=\"relu\"),\n",
        "    layers.Dense(16, activation=\"relu\"),\n",
        "    layers.Dense(1, activation=\"sigmoid\")\n",
        "    ])"
      ]
    },
    {
      "cell_type": "code",
      "execution_count": null,
      "metadata": {
        "id": "vmecBZQY0JE1"
      },
      "outputs": [],
      "source": [
        "model.compile(optimizer=\"rmsprop\",\n",
        "              loss=\"binary_crossentropy\",\n",
        "              metrics=[\"accuracy\"])"
      ]
    },
    {
      "cell_type": "code",
      "execution_count": null,
      "metadata": {
        "id": "D5kxUype1CYI"
      },
      "outputs": [],
      "source": [
        "seed(5097)\n",
        "m_val = m_train[:10000]\n",
        "partial_m_train = m_train[10000:]\n",
        "n_val = n_train[:10000]\n",
        "partial_n_train = n_train[10000:]"
      ]
    },
    {
      "cell_type": "code",
      "execution_count": null,
      "metadata": {
        "colab": {
          "base_uri": "https://localhost:8080/"
        },
        "id": "-kS-d06c1CcX",
        "outputId": "1e040691-f2bd-4683-cc60-77f940fce9f5"
      },
      "outputs": [
        {
          "name": "stdout",
          "output_type": "stream",
          "text": [
            "Epoch 1/20\n",
            "\u001b[1m30/30\u001b[0m \u001b[32m━━━━━━━━━━━━━━━━━━━━\u001b[0m\u001b[37m\u001b[0m \u001b[1m4s\u001b[0m 84ms/step - accuracy: 0.6933 - loss: 0.6007 - val_accuracy: 0.8490 - val_loss: 0.4060\n",
            "Epoch 2/20\n",
            "\u001b[1m30/30\u001b[0m \u001b[32m━━━━━━━━━━━━━━━━━━━━\u001b[0m\u001b[37m\u001b[0m \u001b[1m1s\u001b[0m 47ms/step - accuracy: 0.8908 - loss: 0.3394 - val_accuracy: 0.8847 - val_loss: 0.3073\n",
            "Epoch 3/20\n",
            "\u001b[1m30/30\u001b[0m \u001b[32m━━━━━━━━━━━━━━━━━━━━\u001b[0m\u001b[37m\u001b[0m \u001b[1m1s\u001b[0m 34ms/step - accuracy: 0.9274 - loss: 0.2368 - val_accuracy: 0.8897 - val_loss: 0.2811\n",
            "Epoch 4/20\n",
            "\u001b[1m30/30\u001b[0m \u001b[32m━━━━━━━━━━━━━━━━━━━━\u001b[0m\u001b[37m\u001b[0m \u001b[1m1s\u001b[0m 37ms/step - accuracy: 0.9409 - loss: 0.1903 - val_accuracy: 0.8890 - val_loss: 0.2741\n",
            "Epoch 5/20\n",
            "\u001b[1m30/30\u001b[0m \u001b[32m━━━━━━━━━━━━━━━━━━━━\u001b[0m\u001b[37m\u001b[0m \u001b[1m1s\u001b[0m 38ms/step - accuracy: 0.9499 - loss: 0.1627 - val_accuracy: 0.8878 - val_loss: 0.2752\n",
            "Epoch 6/20\n",
            "\u001b[1m30/30\u001b[0m \u001b[32m━━━━━━━━━━━━━━━━━━━━\u001b[0m\u001b[37m\u001b[0m \u001b[1m1s\u001b[0m 34ms/step - accuracy: 0.9608 - loss: 0.1365 - val_accuracy: 0.8862 - val_loss: 0.2929\n",
            "Epoch 7/20\n",
            "\u001b[1m30/30\u001b[0m \u001b[32m━━━━━━━━━━━━━━━━━━━━\u001b[0m\u001b[37m\u001b[0m \u001b[1m1s\u001b[0m 33ms/step - accuracy: 0.9622 - loss: 0.1196 - val_accuracy: 0.8830 - val_loss: 0.3099\n",
            "Epoch 8/20\n",
            "\u001b[1m30/30\u001b[0m \u001b[32m━━━━━━━━━━━━━━━━━━━━\u001b[0m\u001b[37m\u001b[0m \u001b[1m1s\u001b[0m 34ms/step - accuracy: 0.9709 - loss: 0.0971 - val_accuracy: 0.8750 - val_loss: 0.3256\n",
            "Epoch 9/20\n",
            "\u001b[1m30/30\u001b[0m \u001b[32m━━━━━━━━━━━━━━━━━━━━\u001b[0m\u001b[37m\u001b[0m \u001b[1m1s\u001b[0m 34ms/step - accuracy: 0.9756 - loss: 0.0871 - val_accuracy: 0.8706 - val_loss: 0.3531\n",
            "Epoch 10/20\n",
            "\u001b[1m30/30\u001b[0m \u001b[32m━━━━━━━━━━━━━━━━━━━━\u001b[0m\u001b[37m\u001b[0m \u001b[1m2s\u001b[0m 59ms/step - accuracy: 0.9780 - loss: 0.0775 - val_accuracy: 0.8797 - val_loss: 0.3515\n",
            "Epoch 11/20\n",
            "\u001b[1m30/30\u001b[0m \u001b[32m━━━━━━━━━━━━━━━━━━━━\u001b[0m\u001b[37m\u001b[0m \u001b[1m2s\u001b[0m 38ms/step - accuracy: 0.9859 - loss: 0.0609 - val_accuracy: 0.8797 - val_loss: 0.3610\n",
            "Epoch 12/20\n",
            "\u001b[1m30/30\u001b[0m \u001b[32m━━━━━━━━━━━━━━━━━━━━\u001b[0m\u001b[37m\u001b[0m \u001b[1m1s\u001b[0m 31ms/step - accuracy: 0.9865 - loss: 0.0540 - val_accuracy: 0.8761 - val_loss: 0.3814\n",
            "Epoch 13/20\n",
            "\u001b[1m30/30\u001b[0m \u001b[32m━━━━━━━━━━━━━━━━━━━━\u001b[0m\u001b[37m\u001b[0m \u001b[1m1s\u001b[0m 32ms/step - accuracy: 0.9912 - loss: 0.0422 - val_accuracy: 0.8767 - val_loss: 0.4021\n",
            "Epoch 14/20\n",
            "\u001b[1m30/30\u001b[0m \u001b[32m━━━━━━━━━━━━━━━━━━━━\u001b[0m\u001b[37m\u001b[0m \u001b[1m1s\u001b[0m 35ms/step - accuracy: 0.9932 - loss: 0.0364 - val_accuracy: 0.8770 - val_loss: 0.4257\n",
            "Epoch 15/20\n",
            "\u001b[1m30/30\u001b[0m \u001b[32m━━━━━━━━━━━━━━━━━━━━\u001b[0m\u001b[37m\u001b[0m \u001b[1m1s\u001b[0m 31ms/step - accuracy: 0.9944 - loss: 0.0303 - val_accuracy: 0.8747 - val_loss: 0.4575\n",
            "Epoch 16/20\n",
            "\u001b[1m30/30\u001b[0m \u001b[32m━━━━━━━━━━━━━━━━━━━━\u001b[0m\u001b[37m\u001b[0m \u001b[1m1s\u001b[0m 35ms/step - accuracy: 0.9967 - loss: 0.0259 - val_accuracy: 0.8616 - val_loss: 0.5043\n",
            "Epoch 17/20\n",
            "\u001b[1m30/30\u001b[0m \u001b[32m━━━━━━━━━━━━━━━━━━━━\u001b[0m\u001b[37m\u001b[0m \u001b[1m1s\u001b[0m 34ms/step - accuracy: 0.9982 - loss: 0.0207 - val_accuracy: 0.8715 - val_loss: 0.4934\n",
            "Epoch 18/20\n",
            "\u001b[1m30/30\u001b[0m \u001b[32m━━━━━━━━━━━━━━━━━━━━\u001b[0m\u001b[37m\u001b[0m \u001b[1m1s\u001b[0m 33ms/step - accuracy: 0.9987 - loss: 0.0167 - val_accuracy: 0.8720 - val_loss: 0.5121\n",
            "Epoch 19/20\n",
            "\u001b[1m30/30\u001b[0m \u001b[32m━━━━━━━━━━━━━━━━━━━━\u001b[0m\u001b[37m\u001b[0m \u001b[1m2s\u001b[0m 55ms/step - accuracy: 0.9990 - loss: 0.0132 - val_accuracy: 0.8710 - val_loss: 0.5325\n",
            "Epoch 20/20\n",
            "\u001b[1m30/30\u001b[0m \u001b[32m━━━━━━━━━━━━━━━━━━━━\u001b[0m\u001b[37m\u001b[0m \u001b[1m2s\u001b[0m 59ms/step - accuracy: 0.9997 - loss: 0.0105 - val_accuracy: 0.8709 - val_loss: 0.5534\n"
          ]
        }
      ],
      "source": [
        "seed(5097)\n",
        "history = model.fit(partial_m_train,\n",
        "                    partial_n_train,\n",
        "                    epochs=20,\n",
        "                    batch_size=512,\n",
        "                    validation_data=(m_val, n_val))\n"
      ]
    },
    {
      "cell_type": "markdown",
      "metadata": {
        "id": "vQFWVUxA2zBt"
      },
      "source": [
        "The training process began with a loss of 0.6943 and an accuracy of 0.6019 on the training set, while the validation set showed a loss of 0.8522 and a validation accuracy of 0.4158\n"
      ]
    },
    {
      "cell_type": "markdown",
      "metadata": {
        "id": "tnmoklvM2445"
      },
      "source": [
        "As training continued, the loss and accuracy on the training set enhanced, reaching a loss of 0.9994 and an accuracy of 0.0128 by the end of the 20th epoch. In contrast, on the validation set, the model recorded a loss of 0.8692 and an accuracy of 0.5549 at the same epoch, indicating that the model is overfitting to the training data."
      ]
    },
    {
      "cell_type": "code",
      "execution_count": null,
      "metadata": {
        "colab": {
          "base_uri": "https://localhost:8080/"
        },
        "id": "arF2_3wC1Cds",
        "outputId": "a537e130-9805-48c5-d1ae-3fd0983bdeff"
      },
      "outputs": [
        {
          "data": {
            "text/plain": [
              "dict_keys(['accuracy', 'loss', 'val_accuracy', 'val_loss'])"
            ]
          },
          "execution_count": 107,
          "metadata": {},
          "output_type": "execute_result"
        }
      ],
      "source": [
        "h_dict = history.history\n",
        "h_dict.keys()"
      ]
    },
    {
      "cell_type": "markdown",
      "metadata": {
        "id": "02_k5MTn3g33"
      },
      "source": [
        "Visualizing the training and validation loss."
      ]
    },
    {
      "cell_type": "code",
      "execution_count": null,
      "metadata": {
        "colab": {
          "base_uri": "https://localhost:8080/",
          "height": 472
        },
        "id": "zAfmwc-91Cge",
        "outputId": "bfccd32d-1442-4e99-9e07-236eef2f3b3e"
      },
      "outputs": [
        {
          "data": {
            "image/png": "[encoded data removed]",
            "text/plain": [
              "<Figure size 640x480 with 1 Axes>"
            ]
          },
          "metadata": {},
          "output_type": "display_data"
        }
      ],
      "source": [
        "import matplotlib.pyplot as plt\n",
        "h_dict = history.history\n",
        "l_value = h_dict[\"loss\"]\n",
        "val_l_value = h_dict[\"val_loss\"]\n",
        "epochs = range(1, len(l_value) + 1)\n",
        "plt.plot(epochs, l_value, \"bo\", label=\"Training loss\")\n",
        "plt.plot(epochs, val_l_value, \"b\", label=\"Validation loss\")\n",
        "plt.title(\"Training and validation loss\")\n",
        "plt.xlabel(\"Epochs\")\n",
        "plt.ylabel(\"Loss\")\n",
        "plt.legend()\n",
        "plt.show()"
      ]
    },
    {
      "cell_type": "code",
      "execution_count": null,
      "metadata": {
        "colab": {
          "base_uri": "https://localhost:8080/",
          "height": 472
        },
        "id": "1DlDnNMW1Clf",
        "outputId": "39b3ed42-2686-4921-d9b6-84b9a4e31c6a"
      },
      "outputs": [
        {
          "data": {
            "image/png": "[encoded data removed]",
            "text/plain": [
              "<Figure size 640x480 with 1 Axes>"
            ]
          },
          "metadata": {},
          "output_type": "display_data"
        }
      ],
      "source": [
        "plt.clf()\n",
        "acc = h_dict[\"accuracy\"]\n",
        "val_acc = h_dict[\"val_accuracy\"]\n",
        "plt.plot(epochs, acc, \"bo\", label=\"Training accuracy\")\n",
        "plt.plot(epochs, val_acc, \"b\", label=\"Validation accuracy\")\n",
        "plt.title(\"Accuracy for training and validation.\")\n",
        "plt.xlabel(\"Epochs\")\n",
        "plt.ylabel(\"Accuracy\")\n",
        "plt.legend()\n",
        "plt.show()\n"
      ]
    },
    {
      "cell_type": "markdown",
      "metadata": {
        "id": "eF0hDRYB4o2M"
      },
      "source": [
        "The two graphs indicate that the model's ability to predict new data declines after a certain number of epochs, likely due to overfitting on the training data. To enhance the model's performance, further analysis, including adjustments to hyperparameters or the implementation of regularization techniques, may be required."
      ]
    },
    {
      "cell_type": "markdown",
      "metadata": {
        "id": "Z25aslk_466I"
      },
      "source": [
        "Repeating the training phase"
      ]
    },
    {
      "cell_type": "code",
      "execution_count": null,
      "metadata": {
        "colab": {
          "base_uri": "https://localhost:8080/"
        },
        "id": "DVSzowkf47pY",
        "outputId": "028bb118-51d7-4682-9ddb-7e982206eaf2"
      },
      "outputs": [
        {
          "name": "stdout",
          "output_type": "stream",
          "text": [
            "Epoch 1/4\n",
            "\u001b[1m49/49\u001b[0m \u001b[32m━━━━━━━━━━━━━━━━━━━━\u001b[0m\u001b[37m\u001b[0m \u001b[1m2s\u001b[0m 24ms/step - accuracy: 0.7411 - loss: 0.5499\n",
            "Epoch 2/4\n",
            "\u001b[1m49/49\u001b[0m \u001b[32m━━━━━━━━━━━━━━━━━━━━\u001b[0m\u001b[37m\u001b[0m \u001b[1m2s\u001b[0m 33ms/step - accuracy: 0.9003 - loss: 0.2801\n",
            "Epoch 3/4\n",
            "\u001b[1m49/49\u001b[0m \u001b[32m━━━━━━━━━━━━━━━━━━━━\u001b[0m\u001b[37m\u001b[0m \u001b[1m3s\u001b[0m 35ms/step - accuracy: 0.9253 - loss: 0.2056\n",
            "Epoch 4/4\n",
            "\u001b[1m49/49\u001b[0m \u001b[32m━━━━━━━━━━━━━━━━━━━━\u001b[0m\u001b[37m\u001b[0m \u001b[1m1s\u001b[0m 24ms/step - accuracy: 0.9394 - loss: 0.1754\n",
            "\u001b[1m782/782\u001b[0m \u001b[32m━━━━━━━━━━━━━━━━━━━━\u001b[0m\u001b[37m\u001b[0m \u001b[1m2s\u001b[0m 2ms/step - accuracy: 0.8774 - loss: 0.3033\n"
          ]
        }
      ],
      "source": [
        "np.random.seed(5097)\n",
        "model = keras.Sequential([\n",
        "    layers.Dense(16, activation=\"relu\"),\n",
        "    layers.Dense(16, activation=\"relu\"),\n",
        "    layers.Dense(1, activation=\"sigmoid\")\n",
        "])\n",
        "model.compile(optimizer=\"rmsprop\",\n",
        "              loss=\"binary_crossentropy\",\n",
        "              metrics=[\"accuracy\"])\n",
        "model.fit(m_train, n_train, epochs=4, batch_size=512)\n",
        "results = model.evaluate(m_test, n_test)\n"
      ]
    },
    {
      "cell_type": "code",
      "execution_count": null,
      "metadata": {
        "colab": {
          "base_uri": "https://localhost:8080/"
        },
        "id": "G_H3f3435Mmd",
        "outputId": "a83ab011-2044-49b3-8236-467aec527b7c"
      },
      "outputs": [
        {
          "data": {
            "text/plain": [
              "[0.3035650849342346, 0.8791599869728088]"
            ]
          },
          "execution_count": 111,
          "metadata": {},
          "output_type": "execute_result"
        }
      ],
      "source": [
        "results"
      ]
    },
    {
      "cell_type": "markdown",
      "metadata": {
        "id": "LbFLhFjh5QNQ"
      },
      "source": [
        "The neural network model attained an accuracy of 87.41% on the test dataset, with a loss value of 0.3085."
      ]
    },
    {
      "cell_type": "code",
      "execution_count": null,
      "metadata": {
        "colab": {
          "base_uri": "https://localhost:8080/"
        },
        "id": "ND253_JC5kh9",
        "outputId": "5d8f234d-ae1b-492b-86ed-4a871cdcfcb1"
      },
      "outputs": [
        {
          "name": "stdout",
          "output_type": "stream",
          "text": [
            "\u001b[1m782/782\u001b[0m \u001b[32m━━━━━━━━━━━━━━━━━━━━\u001b[0m\u001b[37m\u001b[0m \u001b[1m2s\u001b[0m 2ms/step\n"
          ]
        },
        {
          "data": {
            "text/plain": [
              "array([[0.1640057 ],\n",
              "       [0.9998376 ],\n",
              "       [0.6209429 ],\n",
              "       ...,\n",
              "       [0.06834509],\n",
              "       [0.0604604 ],\n",
              "       [0.5293154 ]], dtype=float32)"
            ]
          },
          "execution_count": 112,
          "metadata": {},
          "output_type": "execute_result"
        }
      ],
      "source": [
        "model.predict(m_test)"
      ]
    },
    {
      "cell_type": "markdown",
      "metadata": {
        "id": "o63BkQAD6KVp"
      },
      "source": [
        "Creating a neural network that includes a single hidden layer."
      ]
    },
    {
      "cell_type": "code",
      "execution_count": null,
      "metadata": {
        "colab": {
          "base_uri": "https://localhost:8080/"
        },
        "id": "ihhNBk-06JQU",
        "outputId": "c3a4410b-42c5-45e2-bd63-9ab37a75ef76"
      },
      "outputs": [
        {
          "name": "stdout",
          "output_type": "stream",
          "text": [
            "Epoch 1/20\n",
            "\u001b[1m30/30\u001b[0m \u001b[32m━━━━━━━━━━━━━━━━━━━━\u001b[0m\u001b[37m\u001b[0m \u001b[1m3s\u001b[0m 67ms/step - accuracy: 0.7097 - loss: 0.5899 - val_accuracy: 0.8599 - val_loss: 0.4093\n",
            "Epoch 2/20\n",
            "\u001b[1m30/30\u001b[0m \u001b[32m━━━━━━━━━━━━━━━━━━━━\u001b[0m\u001b[37m\u001b[0m \u001b[1m2s\u001b[0m 34ms/step - accuracy: 0.8902 - loss: 0.3584 - val_accuracy: 0.8772 - val_loss: 0.3381\n",
            "Epoch 3/20\n",
            "\u001b[1m30/30\u001b[0m \u001b[32m━━━━━━━━━━━━━━━━━━━━\u001b[0m\u001b[37m\u001b[0m \u001b[1m1s\u001b[0m 31ms/step - accuracy: 0.9130 - loss: 0.2811 - val_accuracy: 0.8847 - val_loss: 0.3052\n",
            "Epoch 4/20\n",
            "\u001b[1m30/30\u001b[0m \u001b[32m━━━━━━━━━━━━━━━━━━━━\u001b[0m\u001b[37m\u001b[0m \u001b[1m1s\u001b[0m 33ms/step - accuracy: 0.9274 - loss: 0.2364 - val_accuracy: 0.8883 - val_loss: 0.2861\n",
            "Epoch 5/20\n",
            "\u001b[1m30/30\u001b[0m \u001b[32m━━━━━━━━━━━━━━━━━━━━\u001b[0m\u001b[37m\u001b[0m \u001b[1m1s\u001b[0m 32ms/step - accuracy: 0.9355 - loss: 0.2081 - val_accuracy: 0.8895 - val_loss: 0.2771\n",
            "Epoch 6/20\n",
            "\u001b[1m30/30\u001b[0m \u001b[32m━━━━━━━━━━━━━━━━━━━━\u001b[0m\u001b[37m\u001b[0m \u001b[1m1s\u001b[0m 34ms/step - accuracy: 0.9454 - loss: 0.1765 - val_accuracy: 0.8877 - val_loss: 0.2767\n",
            "Epoch 7/20\n",
            "\u001b[1m30/30\u001b[0m \u001b[32m━━━━━━━━━━━━━━━━━━━━\u001b[0m\u001b[37m\u001b[0m \u001b[1m1s\u001b[0m 30ms/step - accuracy: 0.9509 - loss: 0.1613 - val_accuracy: 0.8854 - val_loss: 0.2767\n",
            "Epoch 8/20\n",
            "\u001b[1m30/30\u001b[0m \u001b[32m━━━━━━━━━━━━━━━━━━━━\u001b[0m\u001b[37m\u001b[0m \u001b[1m2s\u001b[0m 50ms/step - accuracy: 0.9573 - loss: 0.1453 - val_accuracy: 0.8872 - val_loss: 0.2777\n",
            "Epoch 9/20\n",
            "\u001b[1m30/30\u001b[0m \u001b[32m━━━━━━━━━━━━━━━━━━━━\u001b[0m\u001b[37m\u001b[0m \u001b[1m2s\u001b[0m 35ms/step - accuracy: 0.9599 - loss: 0.1330 - val_accuracy: 0.8871 - val_loss: 0.2815\n",
            "Epoch 10/20\n",
            "\u001b[1m30/30\u001b[0m \u001b[32m━━━━━━━━━━━━━━━━━━━━\u001b[0m\u001b[37m\u001b[0m \u001b[1m1s\u001b[0m 31ms/step - accuracy: 0.9666 - loss: 0.1221 - val_accuracy: 0.8854 - val_loss: 0.2865\n",
            "Epoch 11/20\n",
            "\u001b[1m30/30\u001b[0m \u001b[32m━━━━━━━━━━━━━━━━━━━━\u001b[0m\u001b[37m\u001b[0m \u001b[1m1s\u001b[0m 30ms/step - accuracy: 0.9669 - loss: 0.1154 - val_accuracy: 0.8854 - val_loss: 0.2940\n",
            "Epoch 12/20\n",
            "\u001b[1m30/30\u001b[0m \u001b[32m━━━━━━━━━━━━━━━━━━━━\u001b[0m\u001b[37m\u001b[0m \u001b[1m1s\u001b[0m 32ms/step - accuracy: 0.9736 - loss: 0.1024 - val_accuracy: 0.8785 - val_loss: 0.3090\n",
            "Epoch 13/20\n",
            "\u001b[1m30/30\u001b[0m \u001b[32m━━━━━━━━━━━━━━━━━━━━\u001b[0m\u001b[37m\u001b[0m \u001b[1m1s\u001b[0m 32ms/step - accuracy: 0.9788 - loss: 0.0926 - val_accuracy: 0.8800 - val_loss: 0.3084\n",
            "Epoch 14/20\n",
            "\u001b[1m30/30\u001b[0m \u001b[32m━━━━━━━━━━━━━━━━━━━━\u001b[0m\u001b[37m\u001b[0m \u001b[1m1s\u001b[0m 34ms/step - accuracy: 0.9781 - loss: 0.0890 - val_accuracy: 0.8823 - val_loss: 0.3195\n",
            "Epoch 15/20\n",
            "\u001b[1m30/30\u001b[0m \u001b[32m━━━━━━━━━━━━━━━━━━━━\u001b[0m\u001b[37m\u001b[0m \u001b[1m1s\u001b[0m 32ms/step - accuracy: 0.9791 - loss: 0.0854 - val_accuracy: 0.8810 - val_loss: 0.3234\n",
            "Epoch 16/20\n",
            "\u001b[1m30/30\u001b[0m \u001b[32m━━━━━━━━━━━━━━━━━━━━\u001b[0m\u001b[37m\u001b[0m \u001b[1m1s\u001b[0m 32ms/step - accuracy: 0.9822 - loss: 0.0761 - val_accuracy: 0.8803 - val_loss: 0.3322\n",
            "Epoch 17/20\n",
            "\u001b[1m30/30\u001b[0m \u001b[32m━━━━━━━━━━━━━━━━━━━━\u001b[0m\u001b[37m\u001b[0m \u001b[1m2s\u001b[0m 41ms/step - accuracy: 0.9838 - loss: 0.0735 - val_accuracy: 0.8788 - val_loss: 0.3391\n",
            "Epoch 18/20\n",
            "\u001b[1m30/30\u001b[0m \u001b[32m━━━━━━━━━━━━━━━━━━━━\u001b[0m\u001b[37m\u001b[0m \u001b[1m2s\u001b[0m 37ms/step - accuracy: 0.9862 - loss: 0.0659 - val_accuracy: 0.8786 - val_loss: 0.3487\n",
            "Epoch 19/20\n",
            "\u001b[1m30/30\u001b[0m \u001b[32m━━━━━━━━━━━━━━━━━━━━\u001b[0m\u001b[37m\u001b[0m \u001b[1m1s\u001b[0m 31ms/step - accuracy: 0.9893 - loss: 0.0611 - val_accuracy: 0.8779 - val_loss: 0.3612\n",
            "Epoch 20/20\n",
            "\u001b[1m30/30\u001b[0m \u001b[32m━━━━━━━━━━━━━━━━━━━━\u001b[0m\u001b[37m\u001b[0m \u001b[1m1s\u001b[0m 34ms/step - accuracy: 0.9900 - loss: 0.0540 - val_accuracy: 0.8744 - val_loss: 0.3698\n"
          ]
        }
      ],
      "source": [
        "seed(5097)\n",
        "model1 = keras.Sequential([\n",
        "    layers.Dense(16, activation=\"relu\"),\n",
        "    layers.Dense(1, activation=\"sigmoid\")\n",
        "])\n",
        "\n",
        "model1.compile(optimizer=\"rmsprop\",\n",
        "              loss=\"binary_crossentropy\",\n",
        "              metrics=[\"accuracy\"])\n",
        "\n",
        "m_val = m_train[:10000]\n",
        "partial_m_train = m_train[10000:]\n",
        "\n",
        "n_val = n_train[:10000]\n",
        "partial_n_train = n_train[10000:]\n",
        "\n",
        "\n",
        "h_1 = model1.fit(partial_m_train,\n",
        "                    partial_n_train,\n",
        "                    epochs=20,\n",
        "                    batch_size=512,\n",
        "                    validation_data=(m_val, n_val))\n"
      ]
    },
    {
      "cell_type": "code",
      "execution_count": null,
      "metadata": {
        "colab": {
          "base_uri": "https://localhost:8080/"
        },
        "id": "AeYqGpHl6kTk",
        "outputId": "e1ec0878-7c60-4174-eae5-7fe7c75c509a"
      },
      "outputs": [
        {
          "data": {
            "text/plain": [
              "dict_keys(['accuracy', 'loss', 'val_accuracy', 'val_loss'])"
            ]
          },
          "execution_count": 114,
          "metadata": {},
          "output_type": "execute_result"
        }
      ],
      "source": [
        "h_dict = h_1.history\n",
        "h_dict.keys()"
      ]
    },
    {
      "cell_type": "code",
      "execution_count": null,
      "metadata": {
        "colab": {
          "base_uri": "https://localhost:8080/",
          "height": 472
        },
        "id": "G4rWftDS6wH_",
        "outputId": "b9eaa72b-06d4-4383-c88b-261f1128d924"
      },
      "outputs": [
        {
          "data": {
            "image/png": "[encoded data removed]",
            "text/plain": [
              "<Figure size 640x480 with 1 Axes>"
            ]
          },
          "metadata": {},
          "output_type": "display_data"
        }
      ],
      "source": [
        "import matplotlib.pyplot as plt\n",
        "h_dict = h_1.history\n",
        "l_value = h_dict[\"loss\"]\n",
        "val_l_value = h_dict[\"val_loss\"]\n",
        "epochs = range(1, len(l_value) + 1)\n",
        "\n",
        "#Plotting graph between Training and Validation loss\n",
        "plt.plot(epochs, l_value, \"ro\", label=\"Training loss\")\n",
        "plt.plot(epochs, val_l_value, \"r\", label=\"Validation loss\")\n",
        "plt.title(\"Training and validation loss\")\n",
        "plt.xlabel(\"Epochs\")\n",
        "plt.ylabel(\"Loss\")\n",
        "plt.legend()\n",
        "plt.show()"
      ]
    },
    {
      "cell_type": "code",
      "execution_count": null,
      "metadata": {
        "colab": {
          "base_uri": "https://localhost:8080/",
          "height": 472
        },
        "id": "OQ2BRNpA7SY9",
        "outputId": "b57f06a3-62c5-4cbd-e92a-1514c097fb66"
      },
      "outputs": [
        {
          "data": {
            "image/png": "[encoded data removed]",
            "text/plain": [
              "<Figure size 640x480 with 1 Axes>"
            ]
          },
          "metadata": {},
          "output_type": "display_data"
        }
      ],
      "source": [
        "#Plotting b/w Training and Validation Accuracy\n",
        "plt.clf()\n",
        "acc = h_dict[\"accuracy\"]\n",
        "val_acc = h_dict[\"val_accuracy\"]\n",
        "plt.plot(epochs, acc, \"ro\", label=\"Training accuracy\")\n",
        "plt.plot(epochs, val_acc, \"r\", label=\"Validation accuracy\")\n",
        "plt.title(\"Training and validation accuracy\")\n",
        "plt.xlabel(\"Epochs\")\n",
        "plt.ylabel(\"Accuracy\")\n",
        "plt.legend()\n",
        "plt.show()"
      ]
    },
    {
      "cell_type": "code",
      "execution_count": null,
      "metadata": {
        "colab": {
          "base_uri": "https://localhost:8080/"
        },
        "id": "42KO6z517e09",
        "outputId": "2ab3b91b-ade5-497d-9ecf-94a7f304f16e"
      },
      "outputs": [
        {
          "name": "stdout",
          "output_type": "stream",
          "text": [
            "Epoch 1/5\n",
            "\u001b[1m49/49\u001b[0m \u001b[32m━━━━━━━━━━━━━━━━━━━━\u001b[0m\u001b[37m\u001b[0m \u001b[1m2s\u001b[0m 24ms/step - accuracy: 0.7436 - loss: 0.5483\n",
            "Epoch 2/5\n",
            "\u001b[1m49/49\u001b[0m \u001b[32m━━━━━━━━━━━━━━━━━━━━\u001b[0m\u001b[37m\u001b[0m \u001b[1m1s\u001b[0m 24ms/step - accuracy: 0.9006 - loss: 0.3013\n",
            "Epoch 3/5\n",
            "\u001b[1m49/49\u001b[0m \u001b[32m━━━━━━━━━━━━━━━━━━━━\u001b[0m\u001b[37m\u001b[0m \u001b[1m2s\u001b[0m 30ms/step - accuracy: 0.9196 - loss: 0.2395\n",
            "Epoch 4/5\n",
            "\u001b[1m49/49\u001b[0m \u001b[32m━━━━━━━━━━━━━━━━━━━━\u001b[0m\u001b[37m\u001b[0m \u001b[1m3s\u001b[0m 30ms/step - accuracy: 0.9325 - loss: 0.2044\n",
            "Epoch 5/5\n",
            "\u001b[1m49/49\u001b[0m \u001b[32m━━━━━━━━━━━━━━━━━━━━\u001b[0m\u001b[37m\u001b[0m \u001b[1m2s\u001b[0m 25ms/step - accuracy: 0.9392 - loss: 0.1809\n",
            "\u001b[1m782/782\u001b[0m \u001b[32m━━━━━━━━━━━━━━━━━━━━\u001b[0m\u001b[37m\u001b[0m \u001b[1m2s\u001b[0m 2ms/step - accuracy: 0.8794 - loss: 0.2913\n"
          ]
        }
      ],
      "source": [
        "np.random.seed(5097)\n",
        "model1 = keras.Sequential([\n",
        "    layers.Dense(16, activation=\"relu\"),\n",
        "    layers.Dense(1, activation=\"sigmoid\")\n",
        "])\n",
        "\n",
        "model1.compile(optimizer=\"rmsprop\",\n",
        "              loss=\"binary_crossentropy\",\n",
        "              metrics=[\"accuracy\"])\n",
        "model1.fit(m_train, n_train, epochs=5, batch_size=512)\n",
        "results1 = model1.evaluate(m_test, n_test)"
      ]
    },
    {
      "cell_type": "code",
      "execution_count": null,
      "metadata": {
        "colab": {
          "base_uri": "https://localhost:8080/"
        },
        "id": "EMMsN9gq7q91",
        "outputId": "b06f9c9d-0c7f-4652-9578-1250be22bca1"
      },
      "outputs": [
        {
          "data": {
            "text/plain": [
              "[0.2920784056186676, 0.8805199861526489]"
            ]
          },
          "execution_count": 118,
          "metadata": {},
          "output_type": "execute_result"
        }
      ],
      "source": [
        "results1"
      ]
    },
    {
      "cell_type": "markdown",
      "metadata": {
        "id": "a90JGT457zJL"
      },
      "source": [
        "loss is 0.284 and accuracy is 88.6%"
      ]
    },
    {
      "cell_type": "code",
      "execution_count": null,
      "metadata": {
        "colab": {
          "base_uri": "https://localhost:8080/"
        },
        "id": "NZ5Lqp3U77_8",
        "outputId": "e8342a49-417f-4c32-ae7f-1cf549e6f846"
      },
      "outputs": [
        {
          "name": "stdout",
          "output_type": "stream",
          "text": [
            "\u001b[1m782/782\u001b[0m \u001b[32m━━━━━━━━━━━━━━━━━━━━\u001b[0m\u001b[37m\u001b[0m \u001b[1m2s\u001b[0m 2ms/step\n"
          ]
        },
        {
          "data": {
            "text/plain": [
              "array([[0.1615382 ],\n",
              "       [0.9996801 ],\n",
              "       [0.6125403 ],\n",
              "       ...,\n",
              "       [0.08217228],\n",
              "       [0.06860407],\n",
              "       [0.40224713]], dtype=float32)"
            ]
          },
          "execution_count": 119,
          "metadata": {},
          "output_type": "execute_result"
        }
      ],
      "source": [
        "\n",
        "model1.predict(m_test)"
      ]
    },
    {
      "cell_type": "markdown",
      "metadata": {
        "id": "CIl44hzt8IDd"
      },
      "source": [
        "Creating a neural network with three hidden layers."
      ]
    },
    {
      "cell_type": "code",
      "execution_count": null,
      "metadata": {
        "colab": {
          "base_uri": "https://localhost:8080/"
        },
        "id": "NGu6gRy_8K5I",
        "outputId": "2dbaeab2-c0c6-4301-a9d7-6f49bc44aacb"
      },
      "outputs": [
        {
          "name": "stdout",
          "output_type": "stream",
          "text": [
            "Epoch 1/20\n",
            "\u001b[1m30/30\u001b[0m \u001b[32m━━━━━━━━━━━━━━━━━━━━\u001b[0m\u001b[37m\u001b[0m \u001b[1m3s\u001b[0m 62ms/step - accuracy: 0.6362 - loss: 0.6497 - val_accuracy: 0.8625 - val_loss: 0.4671\n",
            "Epoch 2/20\n",
            "\u001b[1m30/30\u001b[0m \u001b[32m━━━━━━━━━━━━━━━━━━━━\u001b[0m\u001b[37m\u001b[0m \u001b[1m2s\u001b[0m 34ms/step - accuracy: 0.8836 - loss: 0.4069 - val_accuracy: 0.8791 - val_loss: 0.3340\n",
            "Epoch 3/20\n",
            "\u001b[1m30/30\u001b[0m \u001b[32m━━━━━━━━━━━━━━━━━━━━\u001b[0m\u001b[37m\u001b[0m \u001b[1m1s\u001b[0m 34ms/step - accuracy: 0.9203 - loss: 0.2658 - val_accuracy: 0.8853 - val_loss: 0.2948\n",
            "Epoch 4/20\n",
            "\u001b[1m30/30\u001b[0m \u001b[32m━━━━━━━━━━━━━━━━━━━━\u001b[0m\u001b[37m\u001b[0m \u001b[1m1s\u001b[0m 33ms/step - accuracy: 0.9382 - loss: 0.1983 - val_accuracy: 0.8853 - val_loss: 0.2875\n",
            "Epoch 5/20\n",
            "\u001b[1m30/30\u001b[0m \u001b[32m━━━━━━━━━━━━━━━━━━━━\u001b[0m\u001b[37m\u001b[0m \u001b[1m1s\u001b[0m 32ms/step - accuracy: 0.9540 - loss: 0.1578 - val_accuracy: 0.8867 - val_loss: 0.2900\n",
            "Epoch 6/20\n",
            "\u001b[1m30/30\u001b[0m \u001b[32m━━━━━━━━━━━━━━━━━━━━\u001b[0m\u001b[37m\u001b[0m \u001b[1m1s\u001b[0m 33ms/step - accuracy: 0.9616 - loss: 0.1315 - val_accuracy: 0.8730 - val_loss: 0.3302\n",
            "Epoch 7/20\n",
            "\u001b[1m30/30\u001b[0m \u001b[32m━━━━━━━━━━━━━━━━━━━━\u001b[0m\u001b[37m\u001b[0m \u001b[1m1s\u001b[0m 32ms/step - accuracy: 0.9684 - loss: 0.1142 - val_accuracy: 0.8711 - val_loss: 0.3636\n",
            "Epoch 8/20\n",
            "\u001b[1m30/30\u001b[0m \u001b[32m━━━━━━━━━━━━━━━━━━━━\u001b[0m\u001b[37m\u001b[0m \u001b[1m2s\u001b[0m 49ms/step - accuracy: 0.9746 - loss: 0.0914 - val_accuracy: 0.8713 - val_loss: 0.3753\n",
            "Epoch 9/20\n",
            "\u001b[1m30/30\u001b[0m \u001b[32m━━━━━━━━━━━━━━━━━━━━\u001b[0m\u001b[37m\u001b[0m \u001b[1m2s\u001b[0m 31ms/step - accuracy: 0.9742 - loss: 0.0875 - val_accuracy: 0.8803 - val_loss: 0.3587\n",
            "Epoch 10/20\n",
            "\u001b[1m30/30\u001b[0m \u001b[32m━━━━━━━━━━━━━━━━━━━━\u001b[0m\u001b[37m\u001b[0m \u001b[1m1s\u001b[0m 32ms/step - accuracy: 0.9857 - loss: 0.0622 - val_accuracy: 0.8777 - val_loss: 0.3662\n",
            "Epoch 11/20\n",
            "\u001b[1m30/30\u001b[0m \u001b[32m━━━━━━━━━━━━━━━━━━━━\u001b[0m\u001b[37m\u001b[0m \u001b[1m1s\u001b[0m 30ms/step - accuracy: 0.9883 - loss: 0.0519 - val_accuracy: 0.8775 - val_loss: 0.3905\n",
            "Epoch 12/20\n",
            "\u001b[1m30/30\u001b[0m \u001b[32m━━━━━━━━━━━━━━━━━━━━\u001b[0m\u001b[37m\u001b[0m \u001b[1m1s\u001b[0m 32ms/step - accuracy: 0.9906 - loss: 0.0446 - val_accuracy: 0.8752 - val_loss: 0.4122\n",
            "Epoch 13/20\n",
            "\u001b[1m30/30\u001b[0m \u001b[32m━━━━━━━━━━━━━━━━━━━━\u001b[0m\u001b[37m\u001b[0m \u001b[1m1s\u001b[0m 32ms/step - accuracy: 0.9936 - loss: 0.0356 - val_accuracy: 0.8766 - val_loss: 0.4359\n",
            "Epoch 14/20\n",
            "\u001b[1m30/30\u001b[0m \u001b[32m━━━━━━━━━━━━━━━━━━━━\u001b[0m\u001b[37m\u001b[0m \u001b[1m1s\u001b[0m 33ms/step - accuracy: 0.9974 - loss: 0.0235 - val_accuracy: 0.8754 - val_loss: 0.4642\n",
            "Epoch 15/20\n",
            "\u001b[1m30/30\u001b[0m \u001b[32m━━━━━━━━━━━━━━━━━━━━\u001b[0m\u001b[37m\u001b[0m \u001b[1m1s\u001b[0m 30ms/step - accuracy: 0.9974 - loss: 0.0204 - val_accuracy: 0.8724 - val_loss: 0.4850\n",
            "Epoch 16/20\n",
            "\u001b[1m30/30\u001b[0m \u001b[32m━━━━━━━━━━━━━━━━━━━━\u001b[0m\u001b[37m\u001b[0m \u001b[1m1s\u001b[0m 36ms/step - accuracy: 0.9992 - loss: 0.0133 - val_accuracy: 0.8706 - val_loss: 0.5093\n",
            "Epoch 17/20\n",
            "\u001b[1m30/30\u001b[0m \u001b[32m━━━━━━━━━━━━━━━━━━━━\u001b[0m\u001b[37m\u001b[0m \u001b[1m2s\u001b[0m 56ms/step - accuracy: 0.9939 - loss: 0.0231 - val_accuracy: 0.8718 - val_loss: 0.5321\n",
            "Epoch 18/20\n",
            "\u001b[1m30/30\u001b[0m \u001b[32m━━━━━━━━━━━━━━━━━━━━\u001b[0m\u001b[37m\u001b[0m \u001b[1m2s\u001b[0m 52ms/step - accuracy: 0.9992 - loss: 0.0102 - val_accuracy: 0.8694 - val_loss: 0.5624\n",
            "Epoch 19/20\n",
            "\u001b[1m30/30\u001b[0m \u001b[32m━━━━━━━━━━━━━━━━━━━━\u001b[0m\u001b[37m\u001b[0m \u001b[1m1s\u001b[0m 35ms/step - accuracy: 0.9940 - loss: 0.0229 - val_accuracy: 0.8695 - val_loss: 0.5819\n",
            "Epoch 20/20\n",
            "\u001b[1m30/30\u001b[0m \u001b[32m━━━━━━━━━━━━━━━━━━━━\u001b[0m\u001b[37m\u001b[0m \u001b[1m1s\u001b[0m 34ms/step - accuracy: 0.9994 - loss: 0.0069 - val_accuracy: 0.8550 - val_loss: 0.6665\n"
          ]
        }
      ],
      "source": [
        "np.random.seed(5097)\n",
        "model_3 = keras.Sequential([\n",
        "    layers.Dense(16, activation=\"relu\"),\n",
        "    layers.Dense(16, activation=\"relu\"),\n",
        "    layers.Dense(16, activation=\"relu\"),\n",
        "    layers.Dense(1, activation=\"sigmoid\")\n",
        "])\n",
        "model_3.compile(optimizer=\"rmsprop\",\n",
        "              loss=\"binary_crossentropy\",\n",
        "              metrics=[\"accuracy\"])\n",
        "m_val = m_train[:10000]\n",
        "partial_m_train = m_train[10000:]\n",
        "\n",
        "n_val = n_train[:10000]\n",
        "partial_n_train = n_train[10000:]\n",
        "\n",
        "h_3 = model_3.fit(partial_m_train,\n",
        "                    partial_n_train,\n",
        "                    epochs=20,\n",
        "                    batch_size=512,\n",
        "                    validation_data=(m_val, n_val))\n"
      ]
    },
    {
      "cell_type": "code",
      "execution_count": null,
      "metadata": {
        "colab": {
          "base_uri": "https://localhost:8080/"
        },
        "id": "p9zoWVnX7-4Y",
        "outputId": "ed21b542-b25b-45e4-e8ba-da3fd48a9360"
      },
      "outputs": [
        {
          "data": {
            "text/plain": [
              "dict_keys(['accuracy', 'loss', 'val_accuracy', 'val_loss'])"
            ]
          },
          "execution_count": 121,
          "metadata": {},
          "output_type": "execute_result"
        }
      ],
      "source": [
        "\n",
        "h_dict3 = h_3.history\n",
        "h_dict3.keys()"
      ]
    },
    {
      "cell_type": "code",
      "execution_count": null,
      "metadata": {
        "colab": {
          "base_uri": "https://localhost:8080/",
          "height": 472
        },
        "id": "YZqiAKWW8ySY",
        "outputId": "336726c6-3898-4608-a108-855be1f2ccfd"
      },
      "outputs": [
        {
          "data": {
            "image/png": "[encoded data removed]",
            "text/plain": [
              "<Figure size 640x480 with 1 Axes>"
            ]
          },
          "metadata": {},
          "output_type": "display_data"
        }
      ],
      "source": [
        "l_value = h_dict3[\"loss\"]\n",
        "val_l_value = h_dict3[\"val_loss\"]\n",
        "epochs = range(1, len(l_value) + 1)\n",
        "plt.plot(epochs, l_value, \"go\", label=\"Training loss\")\n",
        "plt.plot(epochs, val_l_value, \"g\", label=\"Validation loss\")\n",
        "plt.title(\"Training and validation loss\")\n",
        "plt.xlabel(\"Epochs\")\n",
        "plt.ylabel(\"Loss\")\n",
        "plt.legend()\n",
        "plt.show()"
      ]
    },
    {
      "cell_type": "code",
      "execution_count": null,
      "metadata": {
        "colab": {
          "base_uri": "https://localhost:8080/",
          "height": 472
        },
        "id": "XMlh1irZ9Igt",
        "outputId": "2d3f3a80-e1a4-411f-b7e1-6f4fc3644826"
      },
      "outputs": [
        {
          "data": {
            "image/png": "[encoded data removed]",
            "text/plain": [
              "<Figure size 640x480 with 1 Axes>"
            ]
          },
          "metadata": {},
          "output_type": "display_data"
        }
      ],
      "source": [
        "\n",
        "plt.clf()\n",
        "acc = h_dict3[\"accuracy\"]\n",
        "val_acc = h_dict3[\"val_accuracy\"]\n",
        "plt.plot(epochs, acc, \"go\", label=\"Training acc\")\n",
        "plt.plot(epochs, val_acc, \"g\", label=\"Validation acc\")\n",
        "plt.title(\"Training and validation accuracy\")\n",
        "plt.xlabel(\"Epochs\")\n",
        "plt.ylabel(\"Accuracy\")\n",
        "plt.legend()\n",
        "plt.show()"
      ]
    },
    {
      "cell_type": "code",
      "execution_count": null,
      "metadata": {
        "colab": {
          "base_uri": "https://localhost:8080/"
        },
        "id": "iMZAiObr9PzD",
        "outputId": "9684f3fc-5f8d-47eb-e823-2b6434692678"
      },
      "outputs": [
        {
          "name": "stdout",
          "output_type": "stream",
          "text": [
            "Epoch 1/3\n",
            "\u001b[1m49/49\u001b[0m \u001b[32m━━━━━━━━━━━━━━━━━━━━\u001b[0m\u001b[37m\u001b[0m \u001b[1m2s\u001b[0m 23ms/step - accuracy: 0.7058 - loss: 0.5693\n",
            "Epoch 2/3\n",
            "\u001b[1m49/49\u001b[0m \u001b[32m━━━━━━━━━━━━━━━━━━━━\u001b[0m\u001b[37m\u001b[0m \u001b[1m1s\u001b[0m 23ms/step - accuracy: 0.9041 - loss: 0.2737\n",
            "Epoch 3/3\n",
            "\u001b[1m49/49\u001b[0m \u001b[32m━━━━━━━━━━━━━━━━━━━━\u001b[0m\u001b[37m\u001b[0m \u001b[1m1s\u001b[0m 26ms/step - accuracy: 0.9280 - loss: 0.2019\n",
            "\u001b[1m782/782\u001b[0m \u001b[32m━━━━━━━━━━━━━━━━━━━━\u001b[0m\u001b[37m\u001b[0m \u001b[1m2s\u001b[0m 2ms/step - accuracy: 0.8644 - loss: 0.3370\n"
          ]
        }
      ],
      "source": [
        "np.random.seed(5097)\n",
        "model_3 = keras.Sequential([\n",
        "    layers.Dense(16, activation=\"relu\"),\n",
        "    layers.Dense(16, activation=\"relu\"),\n",
        "    layers.Dense(16, activation=\"relu\"),\n",
        "    layers.Dense(1, activation=\"sigmoid\")\n",
        "])\n",
        "\n",
        "\n",
        "model_3.compile(optimizer='rmsprop',\n",
        "              loss='binary_crossentropy',\n",
        "              metrics=['accuracy'])\n",
        "\n",
        "model_3.fit(m_train, n_train, epochs=3, batch_size=512)\n",
        "results_3 = model_3.evaluate(m_test, n_test)"
      ]
    },
    {
      "cell_type": "code",
      "execution_count": null,
      "metadata": {
        "colab": {
          "base_uri": "https://localhost:8080/"
        },
        "id": "5qgj5aBJ9j9h",
        "outputId": "436c5e12-1c02-4c68-c559-d658fea95bd0"
      },
      "outputs": [
        {
          "data": {
            "text/plain": [
              "[0.331725537776947, 0.8654800057411194]"
            ]
          },
          "execution_count": 125,
          "metadata": {},
          "output_type": "execute_result"
        }
      ],
      "source": [
        "results_3\n"
      ]
    },
    {
      "cell_type": "code",
      "execution_count": null,
      "metadata": {
        "colab": {
          "base_uri": "https://localhost:8080/"
        },
        "id": "ufqlqXdY9myk",
        "outputId": "eb5d4130-873a-4231-cac3-5eb3ca9c422c"
      },
      "outputs": [
        {
          "name": "stdout",
          "output_type": "stream",
          "text": [
            "\u001b[1m782/782\u001b[0m \u001b[32m━━━━━━━━━━━━━━━━━━━━\u001b[0m\u001b[37m\u001b[0m \u001b[1m2s\u001b[0m 2ms/step\n"
          ]
        },
        {
          "data": {
            "text/plain": [
              "array([[0.23185176],\n",
              "       [0.9981573 ],\n",
              "       [0.9789917 ],\n",
              "       ...,\n",
              "       [0.22063664],\n",
              "       [0.1898524 ],\n",
              "       [0.7781924 ]], dtype=float32)"
            ]
          },
          "execution_count": 126,
          "metadata": {},
          "output_type": "execute_result"
        }
      ],
      "source": [
        "model_3.predict(m_test)"
      ]
    },
    {
      "cell_type": "markdown",
      "metadata": {
        "id": "oSHyNoND95DB"
      },
      "source": [
        "The model's accuracy does not show a substantial improvement when the number of layers is adjusted. However, the model with three layers demonstrates greater accuracy compared to the other two.\n",
        "\n",
        "When defining the overall architecture of your neural network, it's essential to determine the number of units in the hidden layers.\n",
        "\n",
        "Although these layers do not directly interact with the external environment, they significantly influence the results.\n",
        "\n"
      ]
    },
    {
      "cell_type": "markdown",
      "metadata": {
        "id": "WD1itt2Y-N4z"
      },
      "source": [
        "Building Neural Network with 32 units."
      ]
    },
    {
      "cell_type": "code",
      "execution_count": null,
      "metadata": {
        "colab": {
          "base_uri": "https://localhost:8080/"
        },
        "id": "dcPvMyEo9m4o",
        "outputId": "ff04f94b-0565-4369-a59b-9e30a63f2f8f"
      },
      "outputs": [
        {
          "name": "stdout",
          "output_type": "stream",
          "text": [
            "Epoch 1/20\n",
            "\u001b[1m30/30\u001b[0m \u001b[32m━━━━━━━━━━━━━━━━━━━━\u001b[0m\u001b[37m\u001b[0m \u001b[1m4s\u001b[0m 89ms/step - accuracy: 0.6882 - loss: 0.5997 - val_accuracy: 0.8524 - val_loss: 0.3843\n",
            "Epoch 2/20\n",
            "\u001b[1m30/30\u001b[0m \u001b[32m━━━━━━━━━━━━━━━━━━━━\u001b[0m\u001b[37m\u001b[0m \u001b[1m2s\u001b[0m 55ms/step - accuracy: 0.8880 - loss: 0.3232 - val_accuracy: 0.8892 - val_loss: 0.2953\n",
            "Epoch 3/20\n",
            "\u001b[1m30/30\u001b[0m \u001b[32m━━━━━━━━━━━━━━━━━━━━\u001b[0m\u001b[37m\u001b[0m \u001b[1m1s\u001b[0m 38ms/step - accuracy: 0.9227 - loss: 0.2265 - val_accuracy: 0.8887 - val_loss: 0.2815\n",
            "Epoch 4/20\n",
            "\u001b[1m30/30\u001b[0m \u001b[32m━━━━━━━━━━━━━━━━━━━━\u001b[0m\u001b[37m\u001b[0m \u001b[1m1s\u001b[0m 42ms/step - accuracy: 0.9419 - loss: 0.1752 - val_accuracy: 0.8889 - val_loss: 0.2800\n",
            "Epoch 5/20\n",
            "\u001b[1m30/30\u001b[0m \u001b[32m━━━━━━━━━━━━━━━━━━━━\u001b[0m\u001b[37m\u001b[0m \u001b[1m1s\u001b[0m 39ms/step - accuracy: 0.9466 - loss: 0.1547 - val_accuracy: 0.8872 - val_loss: 0.2849\n",
            "Epoch 6/20\n",
            "\u001b[1m30/30\u001b[0m \u001b[32m━━━━━━━━━━━━━━━━━━━━\u001b[0m\u001b[37m\u001b[0m \u001b[1m1s\u001b[0m 40ms/step - accuracy: 0.9619 - loss: 0.1221 - val_accuracy: 0.8872 - val_loss: 0.2934\n",
            "Epoch 7/20\n",
            "\u001b[1m30/30\u001b[0m \u001b[32m━━━━━━━━━━━━━━━━━━━━\u001b[0m\u001b[37m\u001b[0m \u001b[1m1s\u001b[0m 40ms/step - accuracy: 0.9707 - loss: 0.1012 - val_accuracy: 0.8813 - val_loss: 0.3092\n",
            "Epoch 8/20\n",
            "\u001b[1m30/30\u001b[0m \u001b[32m━━━━━━━━━━━━━━━━━━━━\u001b[0m\u001b[37m\u001b[0m \u001b[1m1s\u001b[0m 43ms/step - accuracy: 0.9743 - loss: 0.0878 - val_accuracy: 0.8811 - val_loss: 0.3293\n",
            "Epoch 9/20\n",
            "\u001b[1m30/30\u001b[0m \u001b[32m━━━━━━━━━━━━━━━━━━━━\u001b[0m\u001b[37m\u001b[0m \u001b[1m3s\u001b[0m 44ms/step - accuracy: 0.9737 - loss: 0.0809 - val_accuracy: 0.8613 - val_loss: 0.4131\n",
            "Epoch 10/20\n",
            "\u001b[1m30/30\u001b[0m \u001b[32m━━━━━━━━━━━━━━━━━━━━\u001b[0m\u001b[37m\u001b[0m \u001b[1m2s\u001b[0m 66ms/step - accuracy: 0.9815 - loss: 0.0648 - val_accuracy: 0.8476 - val_loss: 0.4945\n",
            "Epoch 11/20\n",
            "\u001b[1m30/30\u001b[0m \u001b[32m━━━━━━━━━━━━━━━━━━━━\u001b[0m\u001b[37m\u001b[0m \u001b[1m2s\u001b[0m 55ms/step - accuracy: 0.9826 - loss: 0.0594 - val_accuracy: 0.8749 - val_loss: 0.3939\n",
            "Epoch 12/20\n",
            "\u001b[1m30/30\u001b[0m \u001b[32m━━━━━━━━━━━━━━━━━━━━\u001b[0m\u001b[37m\u001b[0m \u001b[1m2s\u001b[0m 39ms/step - accuracy: 0.9898 - loss: 0.0437 - val_accuracy: 0.8765 - val_loss: 0.4121\n",
            "Epoch 13/20\n",
            "\u001b[1m30/30\u001b[0m \u001b[32m━━━━━━━━━━━━━━━━━━━━\u001b[0m\u001b[37m\u001b[0m \u001b[1m1s\u001b[0m 39ms/step - accuracy: 0.9949 - loss: 0.0306 - val_accuracy: 0.8739 - val_loss: 0.4365\n",
            "Epoch 14/20\n",
            "\u001b[1m30/30\u001b[0m \u001b[32m━━━━━━━━━━━━━━━━━━━━\u001b[0m\u001b[37m\u001b[0m \u001b[1m1s\u001b[0m 40ms/step - accuracy: 0.9966 - loss: 0.0237 - val_accuracy: 0.8748 - val_loss: 0.4609\n",
            "Epoch 15/20\n",
            "\u001b[1m30/30\u001b[0m \u001b[32m━━━━━━━━━━━━━━━━━━━━\u001b[0m\u001b[37m\u001b[0m \u001b[1m1s\u001b[0m 39ms/step - accuracy: 0.9969 - loss: 0.0200 - val_accuracy: 0.8711 - val_loss: 0.4920\n",
            "Epoch 16/20\n",
            "\u001b[1m30/30\u001b[0m \u001b[32m━━━━━━━━━━━━━━━━━━━━\u001b[0m\u001b[37m\u001b[0m \u001b[1m1s\u001b[0m 41ms/step - accuracy: 0.9972 - loss: 0.0181 - val_accuracy: 0.8744 - val_loss: 0.5094\n",
            "Epoch 17/20\n",
            "\u001b[1m30/30\u001b[0m \u001b[32m━━━━━━━━━━━━━━━━━━━━\u001b[0m\u001b[37m\u001b[0m \u001b[1m1s\u001b[0m 40ms/step - accuracy: 0.9985 - loss: 0.0131 - val_accuracy: 0.8665 - val_loss: 0.5529\n",
            "Epoch 18/20\n",
            "\u001b[1m30/30\u001b[0m \u001b[32m━━━━━━━━━━━━━━━━━━━━\u001b[0m\u001b[37m\u001b[0m \u001b[1m1s\u001b[0m 40ms/step - accuracy: 0.9968 - loss: 0.0154 - val_accuracy: 0.8715 - val_loss: 0.5565\n",
            "Epoch 19/20\n",
            "\u001b[1m30/30\u001b[0m \u001b[32m━━━━━━━━━━━━━━━━━━━━\u001b[0m\u001b[37m\u001b[0m \u001b[1m2s\u001b[0m 62ms/step - accuracy: 0.9997 - loss: 0.0071 - val_accuracy: 0.8734 - val_loss: 0.5785\n",
            "Epoch 20/20\n",
            "\u001b[1m30/30\u001b[0m \u001b[32m━━━━━━━━━━━━━━━━━━━━\u001b[0m\u001b[37m\u001b[0m \u001b[1m2s\u001b[0m 43ms/step - accuracy: 0.9949 - loss: 0.0178 - val_accuracy: 0.8712 - val_loss: 0.6023\n"
          ]
        }
      ],
      "source": [
        "np.random.seed(5097)\n",
        "model_32 = keras.Sequential([\n",
        "    layers.Dense(32, activation=\"relu\"),\n",
        "    layers.Dense(32, activation=\"relu\"),\n",
        "    layers.Dense(1, activation=\"sigmoid\")\n",
        "])\n",
        "#model_compilation\n",
        "model_32.compile(optimizer=\"rmsprop\",\n",
        "              loss=\"binary_crossentropy\",\n",
        "              metrics=[\"accuracy\"])\n",
        "#model_validation\n",
        "m_val = m_train[:10000]\n",
        "partial_m_train = m_train[10000:]\n",
        "\n",
        "n_val = n_train[:10000]\n",
        "partial_n_train = n_train[10000:]\n",
        "\n",
        "np.random.seed(5097)\n",
        "history32 = model_32.fit(partial_m_train,\n",
        "                    partial_n_train,\n",
        "                    epochs=20,\n",
        "                    batch_size=512,\n",
        "                    validation_data=(m_val, n_val))"
      ]
    },
    {
      "cell_type": "code",
      "execution_count": null,
      "metadata": {
        "colab": {
          "base_uri": "https://localhost:8080/"
        },
        "id": "am2FkUsH9m8s",
        "outputId": "d3c38ba8-fb04-410c-cdb7-6d1d3816891b"
      },
      "outputs": [
        {
          "data": {
            "text/plain": [
              "dict_keys(['accuracy', 'loss', 'val_accuracy', 'val_loss'])"
            ]
          },
          "execution_count": 128,
          "metadata": {},
          "output_type": "execute_result"
        }
      ],
      "source": [
        "h_dict32 = history32.history\n",
        "h_dict32.keys()"
      ]
    },
    {
      "cell_type": "code",
      "execution_count": null,
      "metadata": {
        "colab": {
          "base_uri": "https://localhost:8080/",
          "height": 472
        },
        "id": "vUauIr1G9m-b",
        "outputId": "d9e018ca-c022-4a3a-dd7d-28e9ee1cc994"
      },
      "outputs": [
        {
          "data": {
            "image/png": "[encoded data removed]",
            "text/plain": [
              "<Figure size 640x480 with 1 Axes>"
            ]
          },
          "metadata": {},
          "output_type": "display_data"
        }
      ],
      "source": [
        "l_value = h_dict32[\"loss\"]\n",
        "val_l_value = h_dict32[\"val_loss\"]\n",
        "epochs = range(1, len(l_value) + 1)\n",
        "plt.plot(epochs, l_value, \"bo\", label=\"Training loss\")\n",
        "plt.plot(epochs, val_l_value, \"b\", label=\"Validation loss\")\n",
        "plt.title(\"Training and validation loss\")\n",
        "plt.xlabel(\"Epochs\")\n",
        "plt.ylabel(\"Loss\")\n",
        "plt.legend()\n",
        "plt.show()"
      ]
    },
    {
      "cell_type": "code",
      "execution_count": null,
      "metadata": {
        "colab": {
          "base_uri": "https://localhost:8080/",
          "height": 472
        },
        "id": "YelXBxHB9nBC",
        "outputId": "fd7f7fa3-74b2-4207-d4df-53d55f0ab139"
      },
      "outputs": [
        {
          "data": {
            "image/png": "[encoded data removed]",
            "text/plain": [
              "<Figure size 640x480 with 1 Axes>"
            ]
          },
          "metadata": {},
          "output_type": "display_data"
        }
      ],
      "source": [
        "plt.clf()\n",
        "acc = h_dict32[\"accuracy\"]\n",
        "val_acc = h_dict32[\"val_accuracy\"]\n",
        "plt.plot(epochs, acc, \"bo\", label=\"Training acc\")\n",
        "plt.plot(epochs, val_acc, \"b\", label=\"Validation acc\")\n",
        "plt.title(\"Training and validation accuracy\")\n",
        "plt.xlabel(\"Epochs\")\n",
        "plt.ylabel(\"Accuracy\")\n",
        "plt.legend()\n",
        "plt.show()"
      ]
    },
    {
      "cell_type": "code",
      "execution_count": null,
      "metadata": {
        "colab": {
          "base_uri": "https://localhost:8080/"
        },
        "id": "cFPVXD899nCt",
        "outputId": "a33c1eae-a4df-4778-c335-33db35c67fd6"
      },
      "outputs": [
        {
          "name": "stdout",
          "output_type": "stream",
          "text": [
            "Epoch 1/3\n",
            "\u001b[1m49/49\u001b[0m \u001b[32m━━━━━━━━━━━━━━━━━━━━\u001b[0m\u001b[37m\u001b[0m \u001b[1m1s\u001b[0m 30ms/step - accuracy: 0.9460 - loss: 0.2190\n",
            "Epoch 2/3\n",
            "\u001b[1m49/49\u001b[0m \u001b[32m━━━━━━━━━━━━━━━━━━━━\u001b[0m\u001b[37m\u001b[0m \u001b[1m2s\u001b[0m 28ms/step - accuracy: 0.9641 - loss: 0.1196\n",
            "Epoch 3/3\n",
            "\u001b[1m49/49\u001b[0m \u001b[32m━━━━━━━━━━━━━━━━━━━━\u001b[0m\u001b[37m\u001b[0m \u001b[1m2s\u001b[0m 31ms/step - accuracy: 0.9777 - loss: 0.0809\n",
            "\u001b[1m782/782\u001b[0m \u001b[32m━━━━━━━━━━━━━━━━━━━━\u001b[0m\u001b[37m\u001b[0m \u001b[1m2s\u001b[0m 3ms/step - accuracy: 0.8625 - loss: 0.4229\n"
          ]
        },
        {
          "data": {
            "text/plain": [
              "[0.41669750213623047, 0.8646799921989441]"
            ]
          },
          "execution_count": 131,
          "metadata": {},
          "output_type": "execute_result"
        }
      ],
      "source": [
        "h_32 = model_32.fit(m_train, n_train, epochs=3, batch_size=512)\n",
        "r_32 = model_32.evaluate(m_test, n_test)\n",
        "r_32"
      ]
    },
    {
      "cell_type": "code",
      "execution_count": null,
      "metadata": {
        "colab": {
          "base_uri": "https://localhost:8080/"
        },
        "id": "uDg5suEx9nGF",
        "outputId": "4d2c13c1-2d49-458a-c2bd-81e651a76cd1"
      },
      "outputs": [
        {
          "name": "stdout",
          "output_type": "stream",
          "text": [
            "\u001b[1m782/782\u001b[0m \u001b[32m━━━━━━━━━━━━━━━━━━━━\u001b[0m\u001b[37m\u001b[0m \u001b[1m2s\u001b[0m 2ms/step\n"
          ]
        },
        {
          "data": {
            "text/plain": [
              "array([[0.01096537],\n",
              "       [0.9999805 ],\n",
              "       [0.22573452],\n",
              "       ...,\n",
              "       [0.03986822],\n",
              "       [0.01113863],\n",
              "       [0.8492666 ]], dtype=float32)"
            ]
          },
          "execution_count": 132,
          "metadata": {},
          "output_type": "execute_result"
        }
      ],
      "source": [
        "model_32.predict(m_test)"
      ]
    },
    {
      "cell_type": "markdown",
      "metadata": {
        "id": "UlAGxQSfAXk7"
      },
      "source": [
        "Accuracy is 86.19%"
      ]
    },
    {
      "cell_type": "markdown",
      "metadata": {
        "id": "MEyDhiUQAdMr"
      },
      "source": [
        "Training model with 64 units"
      ]
    },
    {
      "cell_type": "code",
      "execution_count": null,
      "metadata": {
        "colab": {
          "base_uri": "https://localhost:8080/"
        },
        "id": "EfQ55ptvAQTJ",
        "outputId": "ef94358e-8983-4a75-a37a-5db31b236c71"
      },
      "outputs": [
        {
          "name": "stdout",
          "output_type": "stream",
          "text": [
            "Epoch 1/20\n",
            "\u001b[1m30/30\u001b[0m \u001b[32m━━━━━━━━━━━━━━━━━━━━\u001b[0m\u001b[37m\u001b[0m \u001b[1m3s\u001b[0m 83ms/step - accuracy: 0.6667 - loss: 0.5996 - val_accuracy: 0.8714 - val_loss: 0.3508\n",
            "Epoch 2/20\n",
            "\u001b[1m30/30\u001b[0m \u001b[32m━━━━━━━━━━━━━━━━━━━━\u001b[0m\u001b[37m\u001b[0m \u001b[1m3s\u001b[0m 100ms/step - accuracy: 0.8786 - loss: 0.3192 - val_accuracy: 0.8757 - val_loss: 0.3053\n",
            "Epoch 3/20\n",
            "\u001b[1m30/30\u001b[0m \u001b[32m━━━━━━━━━━━━━━━━━━━━\u001b[0m\u001b[37m\u001b[0m \u001b[1m4s\u001b[0m 56ms/step - accuracy: 0.9154 - loss: 0.2268 - val_accuracy: 0.8859 - val_loss: 0.2809\n",
            "Epoch 4/20\n",
            "\u001b[1m30/30\u001b[0m \u001b[32m━━━━━━━━━━━━━━━━━━━━\u001b[0m\u001b[37m\u001b[0m \u001b[1m2s\u001b[0m 57ms/step - accuracy: 0.9327 - loss: 0.1831 - val_accuracy: 0.8856 - val_loss: 0.2901\n",
            "Epoch 5/20\n",
            "\u001b[1m30/30\u001b[0m \u001b[32m━━━━━━━━━━━━━━━━━━━━\u001b[0m\u001b[37m\u001b[0m \u001b[1m3s\u001b[0m 55ms/step - accuracy: 0.9485 - loss: 0.1457 - val_accuracy: 0.8865 - val_loss: 0.2995\n",
            "Epoch 6/20\n",
            "\u001b[1m30/30\u001b[0m \u001b[32m━━━━━━━━━━━━━━━━━━━━\u001b[0m\u001b[37m\u001b[0m \u001b[1m2s\u001b[0m 58ms/step - accuracy: 0.9590 - loss: 0.1196 - val_accuracy: 0.8781 - val_loss: 0.3231\n",
            "Epoch 7/20\n",
            "\u001b[1m30/30\u001b[0m \u001b[32m━━━━━━━━━━━━━━━━━━━━\u001b[0m\u001b[37m\u001b[0m \u001b[1m3s\u001b[0m 86ms/step - accuracy: 0.9708 - loss: 0.0941 - val_accuracy: 0.8798 - val_loss: 0.3419\n",
            "Epoch 8/20\n",
            "\u001b[1m30/30\u001b[0m \u001b[32m━━━━━━━━━━━━━━━━━━━━\u001b[0m\u001b[37m\u001b[0m \u001b[1m4s\u001b[0m 65ms/step - accuracy: 0.9769 - loss: 0.0780 - val_accuracy: 0.8481 - val_loss: 0.4593\n",
            "Epoch 9/20\n",
            "\u001b[1m30/30\u001b[0m \u001b[32m━━━━━━━━━━━━━━━━━━━━\u001b[0m\u001b[37m\u001b[0m \u001b[1m2s\u001b[0m 56ms/step - accuracy: 0.9760 - loss: 0.0711 - val_accuracy: 0.8807 - val_loss: 0.3651\n",
            "Epoch 10/20\n",
            "\u001b[1m30/30\u001b[0m \u001b[32m━━━━━━━━━━━━━━━━━━━━\u001b[0m\u001b[37m\u001b[0m \u001b[1m3s\u001b[0m 59ms/step - accuracy: 0.9854 - loss: 0.0504 - val_accuracy: 0.8765 - val_loss: 0.3944\n",
            "Epoch 11/20\n",
            "\u001b[1m30/30\u001b[0m \u001b[32m━━━━━━━━━━━━━━━━━━━━\u001b[0m\u001b[37m\u001b[0m \u001b[1m2s\u001b[0m 63ms/step - accuracy: 0.9920 - loss: 0.0354 - val_accuracy: 0.8780 - val_loss: 0.4108\n",
            "Epoch 12/20\n",
            "\u001b[1m30/30\u001b[0m \u001b[32m━━━━━━━━━━━━━━━━━━━━\u001b[0m\u001b[37m\u001b[0m \u001b[1m3s\u001b[0m 115ms/step - accuracy: 0.9968 - loss: 0.0207 - val_accuracy: 0.8780 - val_loss: 0.4228\n",
            "Epoch 13/20\n",
            "\u001b[1m30/30\u001b[0m \u001b[32m━━━━━━━━━━━━━━━━━━━━\u001b[0m\u001b[37m\u001b[0m \u001b[1m3s\u001b[0m 55ms/step - accuracy: 0.9988 - loss: 0.0133 - val_accuracy: 0.8769 - val_loss: 0.4711\n",
            "Epoch 14/20\n",
            "\u001b[1m30/30\u001b[0m \u001b[32m━━━━━━━━━━━━━━━━━━━━\u001b[0m\u001b[37m\u001b[0m \u001b[1m3s\u001b[0m 57ms/step - accuracy: 0.9923 - loss: 0.0287 - val_accuracy: 0.8774 - val_loss: 0.4797\n",
            "Epoch 15/20\n",
            "\u001b[1m30/30\u001b[0m \u001b[32m━━━━━━━━━━━━━━━━━━━━\u001b[0m\u001b[37m\u001b[0m \u001b[1m2s\u001b[0m 56ms/step - accuracy: 0.9998 - loss: 0.0069 - val_accuracy: 0.8730 - val_loss: 0.5296\n",
            "Epoch 16/20\n",
            "\u001b[1m30/30\u001b[0m \u001b[32m━━━━━━━━━━━━━━━━━━━━\u001b[0m\u001b[37m\u001b[0m \u001b[1m3s\u001b[0m 71ms/step - accuracy: 0.9947 - loss: 0.0229 - val_accuracy: 0.8763 - val_loss: 0.5199\n",
            "Epoch 17/20\n",
            "\u001b[1m30/30\u001b[0m \u001b[32m━━━━━━━━━━━━━━━━━━━━\u001b[0m\u001b[37m\u001b[0m \u001b[1m3s\u001b[0m 79ms/step - accuracy: 0.9999 - loss: 0.0042 - val_accuracy: 0.8777 - val_loss: 0.5505\n",
            "Epoch 18/20\n",
            "\u001b[1m30/30\u001b[0m \u001b[32m━━━━━━━━━━━━━━━━━━━━\u001b[0m\u001b[37m\u001b[0m \u001b[1m2s\u001b[0m 57ms/step - accuracy: 0.9982 - loss: 0.0080 - val_accuracy: 0.8778 - val_loss: 0.5405\n",
            "Epoch 19/20\n",
            "\u001b[1m30/30\u001b[0m \u001b[32m━━━━━━━━━━━━━━━━━━━━\u001b[0m\u001b[37m\u001b[0m \u001b[1m2s\u001b[0m 57ms/step - accuracy: 0.9999 - loss: 0.0032 - val_accuracy: 0.8778 - val_loss: 0.5726\n",
            "Epoch 20/20\n",
            "\u001b[1m30/30\u001b[0m \u001b[32m━━━━━━━━━━━━━━━━━━━━\u001b[0m\u001b[37m\u001b[0m \u001b[1m2s\u001b[0m 58ms/step - accuracy: 0.9999 - loss: 0.0023 - val_accuracy: 0.8762 - val_loss: 0.6131\n"
          ]
        }
      ],
      "source": [
        "np.random.seed(5097)\n",
        "m_64 = keras.Sequential([\n",
        "    layers.Dense(64, activation=\"relu\"),\n",
        "    layers.Dense(64, activation=\"relu\"),\n",
        "    layers.Dense(1, activation=\"sigmoid\")\n",
        "])\n",
        "m_64.compile(optimizer=\"rmsprop\",\n",
        "              loss=\"binary_crossentropy\",\n",
        "              metrics=[\"accuracy\"])\n",
        "# validation\n",
        "m_val = m_train[:10000]\n",
        "partial_m_train = m_train[10000:]\n",
        "\n",
        "n_val = n_train[:10000]\n",
        "partial_n_train = n_train[10000:]\n",
        "\n",
        "np.random.seed(5097)\n",
        "history64 = m_64.fit(partial_m_train,\n",
        "                    partial_n_train,\n",
        "                    epochs=20,\n",
        "                    batch_size=512,\n",
        "                    validation_data=(m_val, n_val))"
      ]
    },
    {
      "cell_type": "code",
      "execution_count": null,
      "metadata": {
        "colab": {
          "base_uri": "https://localhost:8080/"
        },
        "id": "s5LWxAVtAQU4",
        "outputId": "d65cb04f-93b3-48d6-c1a2-49bafcc54ada"
      },
      "outputs": [
        {
          "data": {
            "text/plain": [
              "dict_keys(['accuracy', 'loss', 'val_accuracy', 'val_loss'])"
            ]
          },
          "execution_count": 134,
          "metadata": {},
          "output_type": "execute_result"
        }
      ],
      "source": [
        "h_dict64 = history64.history\n",
        "h_dict64.keys()"
      ]
    },
    {
      "cell_type": "code",
      "execution_count": null,
      "metadata": {
        "colab": {
          "base_uri": "https://localhost:8080/",
          "height": 472
        },
        "id": "pZMCL5GZAQXi",
        "outputId": "6d6049c6-29c9-4d63-d2ce-772cf93072f3"
      },
      "outputs": [
        {
          "data": {
            "image/png": "[encoded data removed]",
            "text/plain": [
              "<Figure size 640x480 with 1 Axes>"
            ]
          },
          "metadata": {},
          "output_type": "display_data"
        }
      ],
      "source": [
        "l_value = h_dict64[\"loss\"]\n",
        "val_l_value = h_dict64[\"val_loss\"]\n",
        "epochs = range(1, len(l_value) + 1)\n",
        "plt.plot(epochs, l_value, \"bo\", label=\"Training loss\")\n",
        "plt.plot(epochs, val_l_value, \"b\", label=\"Validation loss\")\n",
        "plt.title(\"Training and validation loss\")\n",
        "plt.xlabel(\"Epochs\")\n",
        "plt.ylabel(\"Loss\")\n",
        "plt.legend()\n",
        "plt.show()"
      ]
    },
    {
      "cell_type": "code",
      "execution_count": null,
      "metadata": {
        "colab": {
          "base_uri": "https://localhost:8080/",
          "height": 472
        },
        "id": "CdPJI_1AAQZQ",
        "outputId": "d2b9ae99-eace-4d78-e7a2-55f891bef5da"
      },
      "outputs": [
        {
          "data": {
            "image/png": "[encoded data removed]",
            "text/plain": [
              "<Figure size 640x480 with 1 Axes>"
            ]
          },
          "metadata": {},
          "output_type": "display_data"
        }
      ],
      "source": [
        "plt.clf()\n",
        "acc = h_dict64[\"accuracy\"]\n",
        "val_acc = h_dict64[\"val_accuracy\"]\n",
        "plt.plot(epochs, acc, \"bo\", label=\"Training acc\")\n",
        "plt.plot(epochs, val_acc, \"b\", label=\"Validation acc\")\n",
        "plt.title(\"Training and validation accuracy\")\n",
        "plt.xlabel(\"Epochs\")\n",
        "plt.ylabel(\"Accuracy\")\n",
        "plt.legend()\n",
        "plt.show()\n"
      ]
    },
    {
      "cell_type": "code",
      "execution_count": null,
      "metadata": {
        "colab": {
          "background_save": true
        },
        "id": "5xKvI8wuAQcJ",
        "outputId": "4e6bb9ec-2253-4d86-8afb-23a555bac63a"
      },
      "outputs": [
        {
          "name": "stdout",
          "output_type": "stream",
          "text": [
            "Epoch 1/3\n",
            "\u001b[1m49/49\u001b[0m \u001b[32m━━━━━━━━━━━━━━━━━━━━\u001b[0m\u001b[37m\u001b[0m \u001b[1m3s\u001b[0m 62ms/step - accuracy: 0.9426 - loss: 0.2010\n",
            "Epoch 2/3\n",
            "\u001b[1m49/49\u001b[0m \u001b[32m━━━━━━━━━━━━━━━━━━━━\u001b[0m\u001b[37m\u001b[0m \u001b[1m4s\u001b[0m 42ms/step - accuracy: 0.9729 - loss: 0.0878\n",
            "Epoch 3/3\n",
            "\u001b[1m49/49\u001b[0m \u001b[32m━━━━━━━━━━━━━━━━━━━━\u001b[0m\u001b[37m\u001b[0m \u001b[1m2s\u001b[0m 42ms/step - accuracy: 0.9859 - loss: 0.0535\n",
            "\u001b[1m782/782\u001b[0m \u001b[32m━━━━━━━━━━━━━━━━━━━━\u001b[0m\u001b[37m\u001b[0m \u001b[1m3s\u001b[0m 3ms/step - accuracy: 0.8576 - loss: 0.4776\n"
          ]
        },
        {
          "data": {
            "text/plain": [
              "[0.4647270739078522, 0.8608400225639343]"
            ]
          },
          "execution_count": 137,
          "metadata": {},
          "output_type": "execute_result"
        }
      ],
      "source": [
        "history_64 = m_64.fit(m_train, n_train, epochs=3, batch_size=512)\n",
        "results_64 = m_64.evaluate(m_test, n_test)\n",
        "results_64"
      ]
    },
    {
      "cell_type": "code",
      "execution_count": null,
      "metadata": {
        "colab": {
          "background_save": true
        },
        "id": "p-AkD4g3AQjf",
        "outputId": "41ffb79e-5a08-492e-b8cc-ef07b142a286"
      },
      "outputs": [
        {
          "name": "stdout",
          "output_type": "stream",
          "text": [
            "\u001b[1m782/782\u001b[0m \u001b[32m━━━━━━━━━━━━━━━━━━━━\u001b[0m\u001b[37m\u001b[0m \u001b[1m3s\u001b[0m 3ms/step\n"
          ]
        },
        {
          "data": {
            "text/plain": [
              "array([[0.03217847],\n",
              "       [1.        ],\n",
              "       [0.86862445],\n",
              "       ...,\n",
              "       [0.09114577],\n",
              "       [0.06770016],\n",
              "       [0.9946426 ]], dtype=float32)"
            ]
          },
          "execution_count": 138,
          "metadata": {},
          "output_type": "execute_result"
        }
      ],
      "source": [
        "m_64.predict(m_test)"
      ]
    },
    {
      "cell_type": "markdown",
      "metadata": {
        "id": "zxPDuNieB-S9"
      },
      "source": [
        "the accuracy is 87.007%"
      ]
    },
    {
      "cell_type": "markdown",
      "metadata": {
        "id": "ZIhboNeiCG-K"
      },
      "source": [
        "training model with 128 units"
      ]
    },
    {
      "cell_type": "code",
      "execution_count": null,
      "metadata": {
        "colab": {
          "background_save": true,
          "base_uri": "https://localhost:8080/"
        },
        "id": "3RtIIGgfAQoM",
        "outputId": "b73d2a9b-ba69-43e2-ad5f-d5d5d2225a45"
      },
      "outputs": [
        {
          "name": "stdout",
          "output_type": "stream",
          "text": [
            "Epoch 1/20\n",
            "\u001b[1m30/30\u001b[0m \u001b[32m━━━━━━━━━━━━━━━━━━━━\u001b[0m\u001b[37m\u001b[0m \u001b[1m4s\u001b[0m 112ms/step - accuracy: 0.6715 - loss: 0.6031 - val_accuracy: 0.8569 - val_loss: 0.3568\n",
            "Epoch 2/20\n",
            "\u001b[1m30/30\u001b[0m \u001b[32m━━━━━━━━━━━━━━━━━━━━\u001b[0m\u001b[37m\u001b[0m \u001b[1m6s\u001b[0m 139ms/step - accuracy: 0.8768 - loss: 0.3163 - val_accuracy: 0.8571 - val_loss: 0.3381\n",
            "Epoch 3/20\n",
            "\u001b[1m30/30\u001b[0m \u001b[32m━━━━━━━━━━━━━━━━━━━━\u001b[0m\u001b[37m\u001b[0m \u001b[1m4s\u001b[0m 85ms/step - accuracy: 0.9092 - loss: 0.2353 - val_accuracy: 0.8829 - val_loss: 0.2845\n",
            "Epoch 4/20\n",
            "\u001b[1m30/30\u001b[0m \u001b[32m━━━━━━━━━━━━━━━━━━━━\u001b[0m\u001b[37m\u001b[0m \u001b[1m5s\u001b[0m 85ms/step - accuracy: 0.9417 - loss: 0.1740 - val_accuracy: 0.8866 - val_loss: 0.2779\n",
            "Epoch 5/20\n",
            "\u001b[1m30/30\u001b[0m \u001b[32m━━━━━━━━━━━━━━━━━━━━\u001b[0m\u001b[37m\u001b[0m \u001b[1m6s\u001b[0m 106ms/step - accuracy: 0.9510 - loss: 0.1411 - val_accuracy: 0.8778 - val_loss: 0.3110\n",
            "Epoch 6/20\n",
            "\u001b[1m30/30\u001b[0m \u001b[32m━━━━━━━━━━━━━━━━━━━━\u001b[0m\u001b[37m\u001b[0m \u001b[1m5s\u001b[0m 90ms/step - accuracy: 0.9615 - loss: 0.1111 - val_accuracy: 0.8666 - val_loss: 0.3574\n",
            "Epoch 7/20\n",
            "\u001b[1m30/30\u001b[0m \u001b[32m━━━━━━━━━━━━━━━━━━━━\u001b[0m\u001b[37m\u001b[0m \u001b[1m3s\u001b[0m 91ms/step - accuracy: 0.9729 - loss: 0.0850 - val_accuracy: 0.8826 - val_loss: 0.3383\n",
            "Epoch 8/20\n",
            "\u001b[1m30/30\u001b[0m \u001b[32m━━━━━━━━━━━━━━━━━━━━\u001b[0m\u001b[37m\u001b[0m \u001b[1m4s\u001b[0m 143ms/step - accuracy: 0.9844 - loss: 0.0563 - val_accuracy: 0.8815 - val_loss: 0.3517\n",
            "Epoch 9/20\n",
            "\u001b[1m30/30\u001b[0m \u001b[32m━━━━━━━━━━━━━━━━━━━━\u001b[0m\u001b[37m\u001b[0m \u001b[1m3s\u001b[0m 111ms/step - accuracy: 0.9905 - loss: 0.0438 - val_accuracy: 0.8821 - val_loss: 0.3641\n",
            "Epoch 10/20\n",
            "\u001b[1m30/30\u001b[0m \u001b[32m━━━━━━━━━━━━━━━━━━━━\u001b[0m\u001b[37m\u001b[0m \u001b[1m4s\u001b[0m 91ms/step - accuracy: 0.9974 - loss: 0.0183 - val_accuracy: 0.8515 - val_loss: 0.5607\n",
            "Epoch 11/20\n",
            "\u001b[1m30/30\u001b[0m \u001b[32m━━━━━━━━━━━━━━━━━━━━\u001b[0m\u001b[37m\u001b[0m \u001b[1m3s\u001b[0m 112ms/step - accuracy: 0.9606 - loss: 0.1156 - val_accuracy: 0.8776 - val_loss: 0.4386\n",
            "Epoch 12/20\n",
            "\u001b[1m30/30\u001b[0m \u001b[32m━━━━━━━━━━━━━━━━━━━━\u001b[0m\u001b[37m\u001b[0m \u001b[1m4s\u001b[0m 118ms/step - accuracy: 0.9954 - loss: 0.0209 - val_accuracy: 0.8782 - val_loss: 0.4235\n",
            "Epoch 13/20\n",
            "\u001b[1m30/30\u001b[0m \u001b[32m━━━━━━━━━━━━━━━━━━━━\u001b[0m\u001b[37m\u001b[0m \u001b[1m3s\u001b[0m 91ms/step - accuracy: 0.9998 - loss: 0.0071 - val_accuracy: 0.8798 - val_loss: 0.4850\n",
            "Epoch 14/20\n",
            "\u001b[1m30/30\u001b[0m \u001b[32m━━━━━━━━━━━━━━━━━━━━\u001b[0m\u001b[37m\u001b[0m \u001b[1m5s\u001b[0m 89ms/step - accuracy: 0.9960 - loss: 0.0158 - val_accuracy: 0.8797 - val_loss: 0.4618\n",
            "Epoch 15/20\n",
            "\u001b[1m30/30\u001b[0m \u001b[32m━━━━━━━━━━━━━━━━━━━━\u001b[0m\u001b[37m\u001b[0m \u001b[1m5s\u001b[0m 90ms/step - accuracy: 0.9998 - loss: 0.0042 - val_accuracy: 0.8770 - val_loss: 0.5161\n",
            "Epoch 16/20\n",
            "\u001b[1m30/30\u001b[0m \u001b[32m━━━━━━━━━━━━━━━━━━━━\u001b[0m\u001b[37m\u001b[0m \u001b[1m5s\u001b[0m 90ms/step - accuracy: 1.0000 - loss: 0.0023 - val_accuracy: 0.7586 - val_loss: 1.6109\n",
            "Epoch 17/20\n",
            "\u001b[1m30/30\u001b[0m \u001b[32m━━━━━━━━━━━━━━━━━━━━\u001b[0m\u001b[37m\u001b[0m \u001b[1m6s\u001b[0m 132ms/step - accuracy: 0.9581 - loss: 0.1648 - val_accuracy: 0.8779 - val_loss: 0.5302\n",
            "Epoch 18/20\n",
            "\u001b[1m30/30\u001b[0m \u001b[32m━━━━━━━━━━━━━━━━━━━━\u001b[0m\u001b[37m\u001b[0m \u001b[1m3s\u001b[0m 90ms/step - accuracy: 1.0000 - loss: 0.0018 - val_accuracy: 0.8778 - val_loss: 0.5789\n",
            "Epoch 19/20\n",
            "\u001b[1m30/30\u001b[0m \u001b[32m━━━━━━━━━━━━━━━━━━━━\u001b[0m\u001b[37m\u001b[0m \u001b[1m5s\u001b[0m 89ms/step - accuracy: 0.9985 - loss: 0.0072 - val_accuracy: 0.8799 - val_loss: 0.5430\n",
            "Epoch 20/20\n",
            "\u001b[1m30/30\u001b[0m \u001b[32m━━━━━━━━━━━━━━━━━━━━\u001b[0m\u001b[37m\u001b[0m \u001b[1m6s\u001b[0m 113ms/step - accuracy: 1.0000 - loss: 0.0020 - val_accuracy: 0.8785 - val_loss: 0.5663\n"
          ]
        }
      ],
      "source": [
        "np.random.seed(5097)\n",
        "m_128 = keras.Sequential([\n",
        "    layers.Dense(128, activation=\"relu\"),\n",
        "    layers.Dense(128, activation=\"relu\"),\n",
        "    layers.Dense(1, activation=\"sigmoid\")\n",
        "])\n",
        "m_128.compile(optimizer=\"rmsprop\",\n",
        "               loss=\"binary_crossentropy\",\n",
        "               metrics=[\"accuracy\"])\n",
        "\n",
        "# validation\n",
        "m_val = m_train[:10000]\n",
        "partial_m_train = m_train[10000:]\n",
        "\n",
        "n_val = n_train[:10000]\n",
        "partial_n_train = n_train[10000:]\n",
        "\n",
        "np.random.seed(5097)\n",
        "history128 = m_128.fit(partial_m_train,\n",
        "                        partial_n_train,\n",
        "                        epochs=20,\n",
        "                        batch_size=512,\n",
        "                        validation_data=(m_val, n_val))\n"
      ]
    },
    {
      "cell_type": "code",
      "execution_count": null,
      "metadata": {
        "colab": {
          "background_save": true
        },
        "id": "G6RPGXVWAQp-",
        "outputId": "adb8813b-8047-4ba5-e578-f264a0bea7aa"
      },
      "outputs": [
        {
          "data": {
            "text/plain": [
              "dict_keys(['accuracy', 'loss', 'val_accuracy', 'val_loss'])"
            ]
          },
          "execution_count": 140,
          "metadata": {},
          "output_type": "execute_result"
        }
      ],
      "source": [
        "h_dict128 = history128.history\n",
        "h_dict128.keys()"
      ]
    },
    {
      "cell_type": "code",
      "execution_count": null,
      "metadata": {
        "colab": {
          "background_save": true
        },
        "id": "WCsVDvTLAQs-",
        "outputId": "b5d82356-6237-4926-a500-7bcbf507b546"
      },
      "outputs": [
        {
          "data": {
            "image/png": "[encoded data removed]",
            "text/plain": [
              "<Figure size 640x480 with 1 Axes>"
            ]
          },
          "metadata": {},
          "output_type": "display_data"
        }
      ],
      "source": [
        "l_value = h_dict128[\"loss\"]\n",
        "val_l_value = h_dict128[\"val_loss\"]\n",
        "epochs = range(1, len(l_value) + 1)\n",
        "plt.plot(epochs, l_value, \"bo\", label=\"Training loss\")\n",
        "plt.plot(epochs, val_l_value, \"b\", label=\"Validation loss\")\n",
        "plt.title(\"Training and Validation Loss\")\n",
        "plt.xlabel(\"Epochs\")\n",
        "plt.ylabel(\"Loss\")\n",
        "plt.legend()\n",
        "plt.show()\n"
      ]
    },
    {
      "cell_type": "code",
      "execution_count": null,
      "metadata": {
        "colab": {
          "background_save": true
        },
        "id": "v9_N1o3kAQu5",
        "outputId": "f216e9bd-7f10-401b-f0ea-4ed04f3fa51c"
      },
      "outputs": [
        {
          "data": {
            "image/png": "[encoded data removed]",
            "text/plain": [
              "<Figure size 640x480 with 1 Axes>"
            ]
          },
          "metadata": {},
          "output_type": "display_data"
        }
      ],
      "source": [
        "plt.clf()\n",
        "acc = h_dict128[\"accuracy\"]\n",
        "val_acc = h_dict128[\"val_accuracy\"]\n",
        "plt.plot(epochs, acc, \"bo\", label=\"Training acc\")\n",
        "plt.plot(epochs, val_acc, \"b\", label=\"Validation acc\")\n",
        "plt.title(\"Training and validation accuracy\")\n",
        "plt.xlabel(\"Epochs\")\n",
        "plt.ylabel(\"Accuracy\")\n",
        "plt.legend()\n",
        "plt.show()\n"
      ]
    },
    {
      "cell_type": "code",
      "execution_count": null,
      "metadata": {
        "id": "NPf2eTlNAQx0"
      },
      "outputs": [],
      "source": [
        "h_128 = m_128.fit(m_train, n_train, epochs=2, batch_size=512)\n",
        "results_128 = m_128.evaluate(m_test, n_test)\n",
        "results_128"
      ]
    },
    {
      "cell_type": "code",
      "execution_count": null,
      "metadata": {
        "id": "K8PXDZtlDoef"
      },
      "outputs": [],
      "source": [
        "m_128.predict(m_test)"
      ]
    },
    {
      "cell_type": "markdown",
      "metadata": {
        "id": "83NbdWkvD0AU"
      },
      "source": [
        "Accuracy is 86.82%"
      ]
    },
    {
      "cell_type": "markdown",
      "metadata": {
        "id": "NyEHiSthD3mt"
      },
      "source": [
        "Mean square error Loss function"
      ]
    },
    {
      "cell_type": "code",
      "execution_count": null,
      "metadata": {
        "id": "YPhZsjgUDog8"
      },
      "outputs": [],
      "source": [
        "np.random.seed(5097)\n",
        "model_MSE = keras.Sequential([\n",
        "    layers.Dense(16, activation=\"relu\"),\n",
        "    layers.Dense(16, activation=\"relu\"),\n",
        "    layers.Dense(1, activation=\"sigmoid\")\n",
        "])\n",
        "#Model_compilation\n",
        "model_MSE.compile(optimizer=\"rmsprop\",\n",
        "              loss=\"mse\",\n",
        "              metrics=[\"accuracy\"])\n",
        "# validation\n",
        "m_val = m_train[:10000]\n",
        "partial_m_train = m_train[10000:]\n",
        "\n",
        "n_val = n_train[:10000]\n",
        "partial_n_train = n_train[10000:]\n",
        "# Model Fit\n",
        "np.random.seed(5097)\n",
        "h_model_MSE = model_MSE.fit(partial_m_train,\n",
        "                    partial_n_train,\n",
        "                    epochs=20,\n",
        "                    batch_size=512,\n",
        "                    validation_data=(m_val, n_val))\n"
      ]
    },
    {
      "cell_type": "code",
      "execution_count": null,
      "metadata": {
        "id": "smoYCXoyDojQ"
      },
      "outputs": [],
      "source": [
        "h_dict_MSE = h_model_MSE.history\n",
        "h_dict_MSE.keys()"
      ]
    },
    {
      "cell_type": "code",
      "execution_count": null,
      "metadata": {
        "id": "M-Q1t6uMDolU"
      },
      "outputs": [],
      "source": [
        "import matplotlib.pyplot as plt\n",
        "l_value = h_dict_MSE[\"loss\"]\n",
        "val_l_value = h_dict_MSE[\"val_loss\"]\n",
        "epochs = range(1, len(l_value) + 1)\n",
        "plt.plot(epochs, l_value, \"bo\", label=\"Training loss\")\n",
        "plt.plot(epochs, val_l_value, \"b\", label=\"Validation loss\")\n",
        "plt.title(\"Training and validation loss\")\n",
        "plt.xlabel(\"Epochs\")\n",
        "plt.ylabel(\"Loss\")\n",
        "plt.legend()\n",
        "plt.show()\n"
      ]
    },
    {
      "cell_type": "code",
      "execution_count": null,
      "metadata": {
        "id": "4Mc1raKWDonS"
      },
      "outputs": [],
      "source": [
        "plt.clf()\n",
        "acc = h_dict_MSE[\"accuracy\"]\n",
        "val_acc = h_dict_MSE[\"val_accuracy\"]\n",
        "plt.plot(epochs, acc, \"bo\", label=\"Training acc\")\n",
        "plt.plot(epochs, val_acc, \"b\", label=\"Validation acc\")\n",
        "plt.title(\"Training and validation accuracy\")\n",
        "plt.xlabel(\"Epochs\")\n",
        "plt.ylabel(\"Accuracy\")\n",
        "plt.legend()\n",
        "plt.show()"
      ]
    },
    {
      "cell_type": "code",
      "execution_count": null,
      "metadata": {
        "id": "2uXvJDXcDoq-"
      },
      "outputs": [],
      "source": [
        "\n",
        "model_MSE.fit(m_train, n_train, epochs=8, batch_size=512)\n",
        "results_MSE = model_MSE.evaluate(m_test, n_test)\n",
        "results_MSE"
      ]
    },
    {
      "cell_type": "code",
      "execution_count": null,
      "metadata": {
        "id": "7bTkKm8lDouI"
      },
      "outputs": [],
      "source": [
        "model_MSE.predict(m_test)"
      ]
    },
    {
      "cell_type": "markdown",
      "metadata": {
        "id": "1e3dAKw1FoZq"
      },
      "source": [
        "Tanh Activation Function"
      ]
    },
    {
      "cell_type": "code",
      "execution_count": null,
      "metadata": {
        "id": "jXtbrJnQFl_s"
      },
      "outputs": [],
      "source": [
        "np.random.seed(5097)\n",
        "m_tanh = keras.Sequential([\n",
        "    layers.Dense(16, activation=\"tanh\"),\n",
        "    layers.Dense(16, activation=\"tanh\"),\n",
        "    layers.Dense(1, activation=\"sigmoid\")\n",
        "])\n",
        "\n",
        "m_tanh.compile(optimizer='rmsprop',\n",
        "              loss='binary_crossentropy',\n",
        "              metrics=['accuracy'])\n",
        "\n",
        "m_val = m_train[:10000]\n",
        "partial_m_train = m_train[10000:]\n",
        "\n",
        "n_val = n_train[:10000]\n",
        "partial_n_train = n_train[10000:]\n",
        "\n",
        "np.random.seed(5097)\n",
        "\n",
        "h_tanh = m_tanh.fit(partial_m_train,\n",
        "                    partial_n_train,\n",
        "                    epochs=20,\n",
        "                    batch_size=512,\n",
        "                    validation_data=(m_val, n_val))"
      ]
    },
    {
      "cell_type": "code",
      "execution_count": null,
      "metadata": {
        "id": "kB1XT0W-FmB3"
      },
      "outputs": [],
      "source": [
        "h_dict_tanh = h_tanh.history\n",
        "h_dict_tanh.keys()"
      ]
    },
    {
      "cell_type": "code",
      "execution_count": null,
      "metadata": {
        "id": "Mf2cL48HFmD_"
      },
      "outputs": [],
      "source": [
        "l_value = h_dict_tanh[\"loss\"]\n",
        "val_l_value = h_dict_tanh[\"val_loss\"]\n",
        "epochs = range(1, len(l_value) + 1)\n",
        "plt.plot(epochs, l_value, \"bo\", label=\"Training loss\")\n",
        "plt.plot(epochs, val_l_value, \"b\", label=\"Validation loss\")\n",
        "plt.title(\"Training and validation loss\")\n",
        "plt.xlabel(\"Epochs\")\n",
        "plt.ylabel(\"Loss\")\n",
        "plt.legend()\n",
        "plt.show()"
      ]
    },
    {
      "cell_type": "code",
      "execution_count": null,
      "metadata": {
        "id": "C-0JWFlGFmF8"
      },
      "outputs": [],
      "source": [
        "plt.clf()\n",
        "acc = h_dict_tanh[\"accuracy\"]\n",
        "val_acc = h_dict_tanh[\"val_accuracy\"]\n",
        "plt.plot(epochs, acc, \"bo\", label=\"Training acc\")\n",
        "plt.plot(epochs, val_acc, \"b\", label=\"Validation acc\")\n",
        "plt.title(\"Training and validation accuracy\")\n",
        "plt.xlabel(\"Epochs\")\n",
        "plt.ylabel(\"Accuracy\")\n",
        "plt.legend()\n",
        "plt.show()"
      ]
    },
    {
      "cell_type": "code",
      "execution_count": null,
      "metadata": {
        "id": "lvyB2x9OFmJE"
      },
      "outputs": [],
      "source": [
        "m_tanh.fit(m_train, n_train, epochs=8, batch_size=512)\n",
        "results_tanh = m_tanh.evaluate(m_test, n_test)\n",
        "results_tanh"
      ]
    },
    {
      "cell_type": "markdown",
      "metadata": {
        "id": "qTAofV_HG2fs"
      },
      "source": [
        "Adam Optimizer Function"
      ]
    },
    {
      "cell_type": "code",
      "execution_count": null,
      "metadata": {
        "id": "dopqn_krGyBk"
      },
      "outputs": [],
      "source": [
        "np.random.seed(5097)\n",
        "m_adam = keras.Sequential([\n",
        "    layers.Dense(16, activation=\"relu\"),\n",
        "    layers.Dense(16, activation=\"relu\"),\n",
        "    layers.Dense(1, activation=\"sigmoid\")\n",
        "])\n",
        "\n",
        "m_adam.compile(optimizer='adam',\n",
        "              loss='binary_crossentropy',\n",
        "              metrics=['accuracy'])\n",
        "\n",
        "m_val = m_train[:10000]\n",
        "partial_m_train = m_train[10000:]\n",
        "\n",
        "n_val = n_train[:10000]\n",
        "partial_n_train = n_train[10000:]\n",
        "\n",
        "np.random.seed(5097)\n",
        "\n",
        "h_adam = m_adam.fit(partial_m_train,\n",
        "                    partial_n_train,\n",
        "                    epochs=20,\n",
        "                    batch_size=512,\n",
        "                    validation_data=(m_val, n_val))"
      ]
    },
    {
      "cell_type": "code",
      "execution_count": null,
      "metadata": {
        "id": "iR98fDzqGyE5"
      },
      "outputs": [],
      "source": [
        "h_dict_adam = h_adam.history\n",
        "h_dict_adam.keys()"
      ]
    },
    {
      "cell_type": "code",
      "execution_count": null,
      "metadata": {
        "id": "GahwhhnbGyQz"
      },
      "outputs": [],
      "source": [
        "l_value = h_dict_adam[\"loss\"]\n",
        "val_l_value = h_dict_adam[\"val_loss\"]\n",
        "epochs = range(1, len(l_value) + 1)\n",
        "plt.plot(epochs, l_value, \"bo\", label=\"Training loss\")\n",
        "plt.plot(epochs, val_l_value, \"b\", label=\"Validation loss\")\n",
        "plt.title(\"Training and validation loss\")\n",
        "plt.xlabel(\"Epochs\")\n",
        "plt.ylabel(\"Loss\")\n",
        "plt.legend()\n",
        "plt.show()"
      ]
    },
    {
      "cell_type": "code",
      "execution_count": null,
      "metadata": {
        "id": "qJIyxbnrHw9L"
      },
      "outputs": [],
      "source": [
        "plt.clf()\n",
        "acc = h_dict_adam[\"accuracy\"]\n",
        "val_acc = h_dict_adam[\"val_accuracy\"]\n",
        "plt.plot(epochs, acc, \"bo\", label=\"Training acc\")\n",
        "plt.plot(epochs, val_acc, \"b\", label=\"Validation acc\")\n",
        "plt.title(\"Training and validation accuracy\")\n",
        "plt.xlabel(\"Epochs\")\n",
        "plt.ylabel(\"Accuracy\")\n",
        "plt.legend()\n",
        "plt.show()"
      ]
    },
    {
      "cell_type": "code",
      "execution_count": null,
      "metadata": {
        "id": "BHRjfNE9HxJ9"
      },
      "outputs": [],
      "source": [
        "m_adam.fit(m_train, n_train, epochs=4, batch_size=512)\n",
        "results_adam = m_adam.evaluate(m_test, n_test)\n",
        "results_adam"
      ]
    },
    {
      "cell_type": "markdown",
      "metadata": {
        "id": "CEEY6zH_IHeD"
      },
      "source": [
        "Regularization"
      ]
    },
    {
      "cell_type": "code",
      "execution_count": null,
      "metadata": {
        "id": "j3kt_ctqHxM6"
      },
      "outputs": [],
      "source": [
        "from tensorflow.keras import regularizers\n",
        "np.random.seed(5097)\n",
        "m_regularization = keras.Sequential([\n",
        "    layers.Dense(16, activation=\"relu\",kernel_regularizer=regularizers.l2(0.001)),\n",
        "    layers.Dense(16, activation=\"relu\",kernel_regularizer=regularizers.l2(0.001)),\n",
        "    layers.Dense(1, activation=\"sigmoid\")\n",
        "])\n",
        "m_regularization.compile(optimizer=\"rmsprop\",\n",
        "              loss=\"binary_crossentropy\",\n",
        "              metrics=[\"accuracy\"])\n",
        "np.random.seed(5097)\n",
        "h_model_regularization = m_regularization.fit(partial_m_train,\n",
        "                    partial_n_train,\n",
        "                    epochs=20,\n",
        "                    batch_size=512,\n",
        "                    validation_data=(m_val, n_val))\n",
        "h_dict_regularization = h_model_regularization.history\n",
        "h_dict_regularization.keys()\n"
      ]
    },
    {
      "cell_type": "code",
      "execution_count": null,
      "metadata": {
        "id": "CZdLM_oQHxRc"
      },
      "outputs": [],
      "source": [
        "l_value = h_dict_regularization[\"loss\"]\n",
        "val_l_value = h_dict_regularization[\"val_loss\"]\n",
        "epochs = range(1, len(l_value) + 1)\n",
        "plt.plot(epochs, l_value, \"bo\", label=\"Training loss\")\n",
        "plt.plot(epochs, val_l_value, \"b\", label=\"Validation loss\")\n",
        "plt.title(\"Training and validation loss\")\n",
        "plt.xlabel(\"Epochs\")\n",
        "plt.ylabel(\"Loss\")\n",
        "plt.legend()\n",
        "plt.show()"
      ]
    },
    {
      "cell_type": "code",
      "execution_count": null,
      "metadata": {
        "id": "JNipK1PEIphb"
      },
      "outputs": [],
      "source": [
        "plt.clf()\n",
        "acc = h_dict_regularization[\"accuracy\"]\n",
        "val_acc = h_dict_regularization[\"val_accuracy\"]\n",
        "plt.plot(epochs, acc, \"bo\", label=\"Training acc\")\n",
        "plt.plot(epochs, val_acc, \"b\", label=\"Validation acc\")\n",
        "plt.title(\"Training and validation accuracy\")\n",
        "plt.xlabel(\"Epochs\")\n",
        "plt.ylabel(\"Accuracy\")\n",
        "plt.legend()\n",
        "plt.show()\n"
      ]
    },
    {
      "cell_type": "code",
      "execution_count": null,
      "metadata": {
        "id": "WZ_bssfqIubz"
      },
      "outputs": [],
      "source": [
        "m_regularization.fit(m_train, n_train, epochs=8, batch_size=512)\n",
        "results_regularization = m_regularization.evaluate(m_test, n_test)\n",
        "results_regularization\n"
      ]
    },
    {
      "cell_type": "markdown",
      "metadata": {
        "id": "25CPCccEI9sy"
      },
      "source": [
        "loss is 0.505 and accuracy is 84.36%"
      ]
    },
    {
      "cell_type": "markdown",
      "metadata": {
        "id": "bXlL18fqJEYT"
      },
      "source": [
        "DROPOUT"
      ]
    },
    {
      "cell_type": "code",
      "execution_count": null,
      "metadata": {
        "id": "cgKTGpsPI980"
      },
      "outputs": [],
      "source": [
        "from tensorflow.keras import regularizers\n",
        "np.random.seed(5097)\n",
        "m_Dropout = keras.Sequential([\n",
        "    layers.Dense(16, activation=\"relu\"),\n",
        "    layers.Dropout(0.5),\n",
        "    layers.Dense(16, activation=\"relu\"),\n",
        "    layers.Dropout(0.5),\n",
        "    layers.Dense(1, activation=\"sigmoid\")\n",
        "])\n",
        "m_Dropout.compile(optimizer=\"rmsprop\",\n",
        "              loss=\"binary_crossentropy\",\n",
        "              metrics=[\"accuracy\"])\n",
        "np.random.seed(5097)\n",
        "h_model_Dropout = m_Dropout.fit(partial_m_train,\n",
        "                    partial_n_train,\n",
        "                    epochs=20,\n",
        "                    batch_size=512,\n",
        "                    validation_data=(m_val, n_val))\n",
        "h_dict_Dropout = h_model_Dropout.history\n",
        "h_dict_Dropout.keys()"
      ]
    },
    {
      "cell_type": "code",
      "execution_count": null,
      "metadata": {
        "id": "ZdFBt2KsI9_T"
      },
      "outputs": [],
      "source": [
        "l_value = h_dict_Dropout[\"loss\"]\n",
        "val_l_value = h_dict_Dropout[\"val_loss\"]\n",
        "epochs = range(1, len(l_value) + 1)\n",
        "plt.plot(epochs, l_value, \"bo\", label=\"Training loss\")\n",
        "plt.plot(epochs, val_l_value, \"b\", label=\"Validation loss\")\n",
        "plt.title(\"Training and validation loss\")\n",
        "plt.xlabel(\"Epochs\")\n",
        "plt.ylabel(\"Loss\")\n",
        "plt.legend()\n",
        "plt.show()"
      ]
    },
    {
      "cell_type": "code",
      "execution_count": null,
      "metadata": {
        "id": "HrJD9ivpI-Br"
      },
      "outputs": [],
      "source": [
        "plt.clf()\n",
        "acc = h_dict_Dropout[\"accuracy\"]\n",
        "val_acc = h_dict_Dropout[\"val_accuracy\"]\n",
        "plt.plot(epochs, acc, \"bo\", label=\"Training acc\")\n",
        "plt.plot(epochs, val_acc, \"b\", label=\"Validation acc\")\n",
        "plt.title(\"Training and validation accuracy\")\n",
        "plt.xlabel(\"Epochs\")\n",
        "plt.ylabel(\"Accuracy\")\n",
        "plt.legend()\n",
        "plt.show()"
      ]
    },
    {
      "cell_type": "code",
      "execution_count": null,
      "metadata": {
        "id": "ywN2VMMXJ191"
      },
      "outputs": [],
      "source": [
        "m_Dropout.fit(m_train, n_train, epochs=8, batch_size=512)\n",
        "results_Dropout = m_Dropout.evaluate(m_test, n_test)\n",
        "results_Dropout"
      ]
    },
    {
      "cell_type": "markdown",
      "metadata": {
        "id": "hEzKYH20KHPU"
      },
      "source": [
        "loss is 0.467 and accuracy is 87.607%"
      ]
    },
    {
      "cell_type": "markdown",
      "metadata": {
        "id": "5jehfMhkKNUf"
      },
      "source": [
        "Training model with hyper tuned parameters"
      ]
    },
    {
      "cell_type": "code",
      "execution_count": null,
      "metadata": {
        "id": "LXmcLsOBJ2A0"
      },
      "outputs": [],
      "source": [
        "from tensorflow.keras import regularizers\n",
        "np.random.seed(5097)\n",
        "m_Hyper = keras.Sequential([\n",
        "    layers.Dense(32, activation=\"relu\",kernel_regularizer=regularizers.l2(0.0001)),\n",
        "    layers.Dropout(0.5),\n",
        "    layers.Dense(32, activation=\"relu\",kernel_regularizer=regularizers.l2(0.0001)),\n",
        "    layers.Dropout(0.5),\n",
        "    layers.Dense(16, activation=\"relu\",kernel_regularizer=regularizers.l2(0.0001)),\n",
        "    layers.Dropout(0.5),\n",
        "    layers.Dense(1, activation=\"sigmoid\")\n",
        "])\n",
        "m_Hyper.compile(optimizer=\"rmsprop\",\n",
        "              loss=\"mse\",\n",
        "              metrics=[\"accuracy\"])\n",
        "np.random.seed(5097)\n",
        "h_model_Hyper = m_Hyper.fit(partial_m_train,\n",
        "                    partial_n_train,\n",
        "                    epochs=20,\n",
        "                    batch_size=512,\n",
        "                    validation_data=(m_val, n_val))\n",
        "h_dict_Hyper = h_model_Hyper.history\n",
        "h_dict_Hyper.keys()"
      ]
    },
    {
      "cell_type": "code",
      "execution_count": null,
      "metadata": {
        "id": "DrMJebwvK1Gb"
      },
      "outputs": [],
      "source": [
        "l_value = h_dict_Hyper[\"loss\"]\n",
        "val_l_value = h_dict_Hyper[\"val_loss\"]\n",
        "epochs = range(1, len(l_value) + 1)\n",
        "plt.plot(epochs, l_value, \"bo\", label=\"Training loss\")\n",
        "plt.plot(epochs, val_l_value, \"b\", label=\"Validation loss\")\n",
        "plt.title(\"Training and validation loss\")\n",
        "plt.xlabel(\"Epochs\")\n",
        "plt.ylabel(\"Loss\")\n",
        "plt.legend()\n",
        "plt.show()"
      ]
    },
    {
      "cell_type": "code",
      "execution_count": null,
      "metadata": {
        "id": "Tsv4xPMALDHx"
      },
      "outputs": [],
      "source": [
        "plt.clf()\n",
        "acc = h_dict_Hyper[\"accuracy\"]\n",
        "val_acc = h_dict_Hyper[\"val_accuracy\"]\n",
        "plt.plot(epochs, acc, \"bo\", label=\"Training acc\")\n",
        "plt.plot(epochs, val_acc, \"b\", label=\"Validation acc\")\n",
        "plt.title(\"Training and validation accuracy\")\n",
        "plt.xlabel(\"Epochs\")\n",
        "plt.ylabel(\"Accuracy\")\n",
        "plt.legend()\n",
        "plt.show()"
      ]
    },
    {
      "cell_type": "code",
      "execution_count": null,
      "metadata": {
        "id": "7HZGOXUeLPs5"
      },
      "outputs": [],
      "source": [
        "m_Hyper.fit(m_train, n_train, epochs=8, batch_size=512)\n",
        "results_Hyper = m_Hyper.evaluate(m_test, n_test)\n",
        "results_Hyper"
      ]
    },
    {
      "cell_type": "markdown",
      "metadata": {
        "id": "gnt5jECZLoLg"
      },
      "source": [
        "SUMMARY"
      ]
    },
    {
      "cell_type": "code",
      "execution_count": null,
      "metadata": {
        "id": "iJf1ffKwLr1s"
      },
      "outputs": [],
      "source": [
        "All_Models_Loss= np.array([results_Dropout[0],results_Hyper[0],results_MSE[0],results_regularization[0],results_tanh[0]])*100\n",
        "All_Models_Loss\n",
        "All_Models_Accuracy= np.array([results_Dropout[1],results_Hyper[1],results_MSE[1],results_regularization[1],results_tanh[1]])*100\n",
        "All_Models_Accuracy\n",
        "Labels=['M_Dropout','M_Hyper','Model_MSE','m_regularization','m_tanh']\n",
        "plt.clf()"
      ]
    },
    {
      "cell_type": "markdown",
      "metadata": {
        "id": "_ux00lozMBpI"
      },
      "source": [
        "COMPILATION"
      ]
    },
    {
      "cell_type": "code",
      "execution_count": null,
      "metadata": {
        "id": "LWl0SjwkL92T"
      },
      "outputs": [],
      "source": [
        "fig, ax = plt.subplots()\n",
        "ax.scatter(All_Models_Loss,All_Models_Accuracy)\n",
        "for i, txt in enumerate(Labels):\n",
        "    ax.annotate(txt, (All_Models_Loss[i],All_Models_Accuracy[i] ))\n",
        "plt.title(\" Accuracy and Loss \")\n",
        "plt.ylabel(\"Accuracy\")\n",
        "plt.xlabel(\"Loss\")\n",
        "\n",
        "plt.show()"
      ]
    },
    {
      "cell_type": "markdown",
      "metadata": {
        "id": "eGQwFFb4MVYE"
      },
      "source": [
        "We began by loading the data and setting the maximum number of words and the maximum length for each review. Next, we constructed a baseline neural network model featuring one hidden layer with 16 units, using binary crossentropy as the loss function and ReLU as the activation function for the hidden layer."
      ]
    },
    {
      "cell_type": "markdown",
      "metadata": {
        "id": "yk9Mv5H7Mf6P"
      },
      "source": [
        "Next, we experimented with various strategies to enhance the model's performance. We built models with one and three hidden layers, trained and evaluated them on the training and test datasets, and compared the outcomes. The results showed that the model with three hidden layers achieved slightly higher validation and test accuracy than the one with a single hidden layer."
      ]
    },
    {
      "cell_type": "markdown",
      "metadata": {
        "id": "h_pDOApRMp7z"
      },
      "source": [
        "We then experimented with varying the number of hidden units, specifically using 32, 64, and 128 units. After training and evaluating the models, we plotted their validation accuracy. Our findings indicated that increasing the number of hidden units generally improved validation and test accuracy; however, excessively high numbers of units could lead to overfitting."
      ]
    },
    {
      "cell_type": "markdown",
      "metadata": {
        "id": "Izpe6kS2M0Ew"
      },
      "source": [
        "Next, we switched to using the mean squared error (MSE) loss function instead of binary crossentropy. After training and evaluating the model with MSE loss, we compared the results to the baseline model. We found that using MSE loss did not notably impact the model's performance."
      ]
    },
    {
      "cell_type": "markdown",
      "metadata": {
        "id": "_SF69rwSM9dE"
      },
      "source": [
        "Conclusion: Among these configurations, Model_Hyper stood out as the top performer, achieving the highest accuracy. This model utilized three dense layers combined with a dropout rate of 0.5, demonstrating optimal performance for the IMDB dataset. When examining loss functions, the mean squared error (MSE) function resulted in the lowest loss value, whereas the binary cross-entropy function provided a less favorable outcome.\n",
        "The use of the tanh activation function introduced challenges, as it was affected by the vanishing gradient problem, leading to reduced accuracy in comparison to other models. In terms of optimization, the Adam optimizer proved efficient for the model’s computations, facilitating better convergence during training.\n",
        "Regularization techniques, including L1 and L2 regularization, were applied to further mitigate overfitting. The L2 model showed slightly better accuracy while maintaining smaller loss values. Although dropout regularization effectively reduced the loss function, it did not significantly influence the overall accuracy of the models.\n",
        "Graphical analysis confirmed that Model_Hyper achieved the highest accuracy alongside a reasonably low loss, while Model_MSE, despite its low loss value, did not match the accuracy of Model_Hyper. The Model_tanh demonstrated lower accuracy compared to other configurations, and the model incorporating regularization displayed higher loss and lower accuracy relative to the others.\n",
        "In conclusion, this evaluation identifies Model_Hyper as the most effective neural network configuration among those tested, highlighting the importance of architecture choices, regularization, and optimization strategies in achieving superior performance on the IMDB dataset.\n",
        "\n"
      ]
    }
  ],
  "metadata": {
    "colab": {
      "provenance": []
    },
    "kernelspec": {
      "display_name": "Python 3",
      "name": "python3"
    },
    "language_info": {
      "name": "python"
    }
  },
  "nbformat": 4,
  "nbformat_minor": 0
}